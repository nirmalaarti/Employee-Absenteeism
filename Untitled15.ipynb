{
 "cells": [
  {
   "cell_type": "code",
   "execution_count": 1,
   "metadata": {},
   "outputs": [
    {
     "name": "stderr",
     "output_type": "stream",
     "text": [
      "Using TensorFlow backend.\n"
     ]
    }
   ],
   "source": [
    "import os\n",
    "import pandas as pd\n",
    "import numpy as np  \n",
    "import matplotlib.pyplot as plt\n",
    "from scipy.stats import chi2_contingency\n",
    "import seaborn as sns\n",
    "from random import randrange, uniform\n",
    "from fancyimpute import KNN"
   ]
  },
  {
   "cell_type": "code",
   "execution_count": 2,
   "metadata": {},
   "outputs": [],
   "source": [
    "os.chdir(\"I:\\DATA Scientist Assignments\\Employee Absenteeism project\")"
   ]
  },
  {
   "cell_type": "code",
   "execution_count": 3,
   "metadata": {},
   "outputs": [],
   "source": [
    "data_employee = pd.read_excel(\"Absenteeism_at_work_Project.xls\")"
   ]
  },
  {
   "cell_type": "code",
   "execution_count": 4,
   "metadata": {},
   "outputs": [
    {
     "data": {
      "text/plain": [
       "(740, 21)"
      ]
     },
     "execution_count": 4,
     "metadata": {},
     "output_type": "execute_result"
    }
   ],
   "source": [
    "data_employee.shape"
   ]
  },
  {
   "cell_type": "code",
   "execution_count": 5,
   "metadata": {},
   "outputs": [
    {
     "data": {
      "text/plain": [
       "pandas.core.frame.DataFrame"
      ]
     },
     "execution_count": 5,
     "metadata": {},
     "output_type": "execute_result"
    }
   ],
   "source": [
    "type(data_employee)"
   ]
  },
  {
   "cell_type": "code",
   "execution_count": 6,
   "metadata": {},
   "outputs": [
    {
     "data": {
      "text/plain": [
       "ID                                 36\n",
       "Reason for absence                 28\n",
       "Month of absence                   13\n",
       "Day of the week                     5\n",
       "Seasons                             4\n",
       "Transportation expense             24\n",
       "Distance from Residence to Work    25\n",
       "Service time                       18\n",
       "Age                                22\n",
       "Work load Average/day              38\n",
       "Hit target                         13\n",
       "Disciplinary failure                2\n",
       "Education                           4\n",
       "Son                                 5\n",
       "Social drinker                      2\n",
       "Social smoker                       2\n",
       "Pet                                 6\n",
       "Weight                             26\n",
       "Height                             14\n",
       "Body mass index                    17\n",
       "Absenteeism time in hours          19\n",
       "dtype: int64"
      ]
     },
     "execution_count": 6,
     "metadata": {},
     "output_type": "execute_result"
    }
   ],
   "source": [
    "data_employee.nunique()"
   ]
  },
  {
   "cell_type": "code",
   "execution_count": 7,
   "metadata": {},
   "outputs": [],
   "source": [
    "#drop ID column as it not contain any significant information\n",
    "data_employee = data_employee.drop(['ID'], axis = 1)"
   ]
  },
  {
   "cell_type": "code",
   "execution_count": 8,
   "metadata": {},
   "outputs": [
    {
     "data": {
      "text/plain": [
       "(740, 20)"
      ]
     },
     "execution_count": 8,
     "metadata": {},
     "output_type": "execute_result"
    }
   ],
   "source": [
    "data_employee.shape"
   ]
  },
  {
   "cell_type": "code",
   "execution_count": 7,
   "metadata": {},
   "outputs": [
    {
     "data": {
      "text/plain": [
       "Index(['ID', 'Reason for absence', 'Month of absence', 'Day of the week',\n",
       "       'Seasons', 'Transportation expense', 'Distance from Residence to Work',\n",
       "       'Service time', 'Age', 'Work load Average/day ', 'Hit target',\n",
       "       'Disciplinary failure', 'Education', 'Son', 'Social drinker',\n",
       "       'Social smoker', 'Pet', 'Weight', 'Height', 'Body mass index',\n",
       "       'Absenteeism time in hours'],\n",
       "      dtype='object')"
      ]
     },
     "execution_count": 7,
     "metadata": {},
     "output_type": "execute_result"
    }
   ],
   "source": [
    "data_employee.columns"
   ]
  },
  {
   "cell_type": "code",
   "execution_count": 92,
   "metadata": {},
   "outputs": [
    {
     "data": {
      "text/plain": [
       "0      7.0\n",
       "1      7.0\n",
       "2      7.0\n",
       "3      7.0\n",
       "4      7.0\n",
       "      ... \n",
       "735    7.0\n",
       "736    7.0\n",
       "737    0.0\n",
       "738    0.0\n",
       "739    0.0\n",
       "Name: Month of absence, Length: 740, dtype: float64"
      ]
     },
     "execution_count": 92,
     "metadata": {},
     "output_type": "execute_result"
    }
   ],
   "source": [
    "data_employee['Month of absence']"
   ]
  },
  {
   "cell_type": "code",
   "execution_count": 11,
   "metadata": {},
   "outputs": [
    {
     "data": {
      "text/plain": [
       "array([ 7.,  8.,  9., 10., nan, 11., 12.,  1.,  2.,  3.,  4.,  5.,  6.,\n",
       "        0.])"
      ]
     },
     "execution_count": 11,
     "metadata": {},
     "output_type": "execute_result"
    }
   ],
   "source": [
    "data_employee['Month of absence'].unique()"
   ]
  },
  {
   "cell_type": "code",
   "execution_count": 8,
   "metadata": {},
   "outputs": [],
   "source": [
    "#Replace 0 values of month with nan as it is not any month\n",
    "data_employee['Month of absence'] = data_employee['Month of absence'].replace(0,np.NaN)"
   ]
  },
  {
   "cell_type": "code",
   "execution_count": 13,
   "metadata": {},
   "outputs": [
    {
     "data": {
      "text/plain": [
       "array([ 7.,  8.,  9., 10., nan, 11., 12.,  1.,  2.,  3.,  4.,  5.,  6.])"
      ]
     },
     "execution_count": 13,
     "metadata": {},
     "output_type": "execute_result"
    }
   ],
   "source": [
    "data_employee['Month of absence'].unique()"
   ]
  },
  {
   "cell_type": "code",
   "execution_count": 9,
   "metadata": {},
   "outputs": [
    {
     "data": {
      "text/plain": [
       "ID                                 36\n",
       "Reason for absence                 28\n",
       "Month of absence                   12\n",
       "Day of the week                     5\n",
       "Seasons                             4\n",
       "Transportation expense             24\n",
       "Distance from Residence to Work    25\n",
       "Service time                       18\n",
       "Age                                22\n",
       "Work load Average/day              38\n",
       "Hit target                         13\n",
       "Disciplinary failure                2\n",
       "Education                           4\n",
       "Son                                 5\n",
       "Social drinker                      2\n",
       "Social smoker                       2\n",
       "Pet                                 6\n",
       "Weight                             26\n",
       "Height                             14\n",
       "Body mass index                    17\n",
       "Absenteeism time in hours          19\n",
       "dtype: int64"
      ]
     },
     "execution_count": 9,
     "metadata": {},
     "output_type": "execute_result"
    }
   ],
   "source": [
    "data_employee.nunique()"
   ]
  },
  {
   "cell_type": "code",
   "execution_count": 10,
   "metadata": {},
   "outputs": [],
   "source": [
    "data_employee.columns = data_employee.columns.str.replace(' ', '_')"
   ]
  },
  {
   "cell_type": "code",
   "execution_count": 11,
   "metadata": {},
   "outputs": [
    {
     "data": {
      "text/plain": [
       "Index(['ID', 'Reason_for_absence', 'Month_of_absence', 'Day_of_the_week',\n",
       "       'Seasons', 'Transportation_expense', 'Distance_from_Residence_to_Work',\n",
       "       'Service_time', 'Age', 'Work_load_Average/day_', 'Hit_target',\n",
       "       'Disciplinary_failure', 'Education', 'Son', 'Social_drinker',\n",
       "       'Social_smoker', 'Pet', 'Weight', 'Height', 'Body_mass_index',\n",
       "       'Absenteeism_time_in_hours'],\n",
       "      dtype='object')"
      ]
     },
     "execution_count": 11,
     "metadata": {},
     "output_type": "execute_result"
    }
   ],
   "source": [
    "data_employee.columns"
   ]
  },
  {
   "cell_type": "code",
   "execution_count": 12,
   "metadata": {},
   "outputs": [],
   "source": [
    "#Continuous variables \n",
    "cnames = [\"ID\",\"Transportation_expense\", \"Distance_from_Residence_to_Work\", \"Service_time\", \"Age\", \n",
    "          \"Work_load_Average/day_\", \"Hit_target\", \"Weight\", \"Height\", \"Body_mass_index\", \"Absenteeism_time_in_hours\"]\n",
    "\n",
    "#Categorical variables\n",
    "cat_names = ['Reason_for_absence', 'Month_of_absence', 'Day_of_the_week', 'Seasons', 'Disciplinary_failure', 'Education', \n",
    "             'Son', 'Social_drinker', 'Social_smoker', 'Pet']"
   ]
  },
  {
   "cell_type": "code",
   "execution_count": 13,
   "metadata": {},
   "outputs": [],
   "source": [
    "#divide \"Work load Average/day \" by 1000(as get to know from support team)\n",
    "data_employee[\"Work_load_Average/day_\"] = data_employee[\"Work_load_Average/day_\"]/1000"
   ]
  },
  {
   "cell_type": "markdown",
   "metadata": {},
   "source": [
    ">**Data Pre Processing\n",
    "\n",
    ">>**Missing Value analysis"
   ]
  },
  {
   "cell_type": "code",
   "execution_count": 21,
   "metadata": {},
   "outputs": [],
   "source": [
    "#Create dataframe with missing percentage\n",
    "missing_val = pd.DataFrame(data_employee.isnull().sum())"
   ]
  },
  {
   "cell_type": "code",
   "execution_count": 22,
   "metadata": {},
   "outputs": [
    {
     "data": {
      "text/html": [
       "<div>\n",
       "<style scoped>\n",
       "    .dataframe tbody tr th:only-of-type {\n",
       "        vertical-align: middle;\n",
       "    }\n",
       "\n",
       "    .dataframe tbody tr th {\n",
       "        vertical-align: top;\n",
       "    }\n",
       "\n",
       "    .dataframe thead th {\n",
       "        text-align: right;\n",
       "    }\n",
       "</style>\n",
       "<table border=\"1\" class=\"dataframe\">\n",
       "  <thead>\n",
       "    <tr style=\"text-align: right;\">\n",
       "      <th></th>\n",
       "      <th>0</th>\n",
       "    </tr>\n",
       "  </thead>\n",
       "  <tbody>\n",
       "    <tr>\n",
       "      <td>Reason_for_absence</td>\n",
       "      <td>3</td>\n",
       "    </tr>\n",
       "    <tr>\n",
       "      <td>Month_of_absence</td>\n",
       "      <td>4</td>\n",
       "    </tr>\n",
       "    <tr>\n",
       "      <td>Day_of_the_week</td>\n",
       "      <td>0</td>\n",
       "    </tr>\n",
       "    <tr>\n",
       "      <td>Seasons</td>\n",
       "      <td>0</td>\n",
       "    </tr>\n",
       "    <tr>\n",
       "      <td>Transportation_expense</td>\n",
       "      <td>7</td>\n",
       "    </tr>\n",
       "    <tr>\n",
       "      <td>Distance_from_Residence_to_Work</td>\n",
       "      <td>3</td>\n",
       "    </tr>\n",
       "    <tr>\n",
       "      <td>Service_time</td>\n",
       "      <td>3</td>\n",
       "    </tr>\n",
       "    <tr>\n",
       "      <td>Age</td>\n",
       "      <td>3</td>\n",
       "    </tr>\n",
       "    <tr>\n",
       "      <td>Work_load_Average/day_</td>\n",
       "      <td>10</td>\n",
       "    </tr>\n",
       "    <tr>\n",
       "      <td>Hit_target</td>\n",
       "      <td>6</td>\n",
       "    </tr>\n",
       "    <tr>\n",
       "      <td>Disciplinary_failure</td>\n",
       "      <td>6</td>\n",
       "    </tr>\n",
       "    <tr>\n",
       "      <td>Education</td>\n",
       "      <td>10</td>\n",
       "    </tr>\n",
       "    <tr>\n",
       "      <td>Son</td>\n",
       "      <td>6</td>\n",
       "    </tr>\n",
       "    <tr>\n",
       "      <td>Social_drinker</td>\n",
       "      <td>3</td>\n",
       "    </tr>\n",
       "    <tr>\n",
       "      <td>Social_smoker</td>\n",
       "      <td>4</td>\n",
       "    </tr>\n",
       "    <tr>\n",
       "      <td>Pet</td>\n",
       "      <td>2</td>\n",
       "    </tr>\n",
       "    <tr>\n",
       "      <td>Weight</td>\n",
       "      <td>1</td>\n",
       "    </tr>\n",
       "    <tr>\n",
       "      <td>Height</td>\n",
       "      <td>14</td>\n",
       "    </tr>\n",
       "    <tr>\n",
       "      <td>Body_mass_index</td>\n",
       "      <td>31</td>\n",
       "    </tr>\n",
       "    <tr>\n",
       "      <td>Absenteeism_time_in_hours</td>\n",
       "      <td>22</td>\n",
       "    </tr>\n",
       "  </tbody>\n",
       "</table>\n",
       "</div>"
      ],
      "text/plain": [
       "                                  0\n",
       "Reason_for_absence                3\n",
       "Month_of_absence                  4\n",
       "Day_of_the_week                   0\n",
       "Seasons                           0\n",
       "Transportation_expense            7\n",
       "Distance_from_Residence_to_Work   3\n",
       "Service_time                      3\n",
       "Age                               3\n",
       "Work_load_Average/day_           10\n",
       "Hit_target                        6\n",
       "Disciplinary_failure              6\n",
       "Education                        10\n",
       "Son                               6\n",
       "Social_drinker                    3\n",
       "Social_smoker                     4\n",
       "Pet                               2\n",
       "Weight                            1\n",
       "Height                           14\n",
       "Body_mass_index                  31\n",
       "Absenteeism_time_in_hours        22"
      ]
     },
     "execution_count": 22,
     "metadata": {},
     "output_type": "execute_result"
    }
   ],
   "source": [
    "missing_val"
   ]
  },
  {
   "cell_type": "code",
   "execution_count": 24,
   "metadata": {},
   "outputs": [
    {
     "name": "stdout",
     "output_type": "stream",
     "text": [
      "(718, 20)\n"
     ]
    }
   ],
   "source": [
    "#drop the observation which \"Absenteeism time in hours\" has missing value\n",
    "data_employee = data_employee.drop(data_employee[data_employee['Absenteeism_time_in_hours'].isnull()].index, axis = 0)\n",
    "print(data_employee.shape)"
   ]
  },
  {
   "cell_type": "code",
   "execution_count": 25,
   "metadata": {},
   "outputs": [
    {
     "data": {
      "text/plain": [
       "0"
      ]
     },
     "execution_count": 25,
     "metadata": {},
     "output_type": "execute_result"
    }
   ],
   "source": [
    "data_employee['Absenteeism_time_in_hours'].isnull().sum()"
   ]
  },
  {
   "cell_type": "code",
   "execution_count": 26,
   "metadata": {},
   "outputs": [],
   "source": [
    "missingvalue = pd.DataFrame(data_employee.isnull().sum()).reset_index()\n",
    "missingvalue = missingvalue.rename(columns = {'index': 'Variables', 0: 'Missing_percentage'})\n",
    "missingvalue['Missing_percentage'] = (missingvalue['Missing_percentage']/len(data_employee))*100\n",
    "missingvalue = missingvalue.sort_values('Missing_percentage', ascending = False).reset_index(drop = True)\n",
    "\n",
    "missingvalue.to_csv(\"Miising_perc.csv\", index = False)"
   ]
  },
  {
   "cell_type": "code",
   "execution_count": 27,
   "metadata": {},
   "outputs": [
    {
     "data": {
      "text/html": [
       "<div>\n",
       "<style scoped>\n",
       "    .dataframe tbody tr th:only-of-type {\n",
       "        vertical-align: middle;\n",
       "    }\n",
       "\n",
       "    .dataframe tbody tr th {\n",
       "        vertical-align: top;\n",
       "    }\n",
       "\n",
       "    .dataframe thead th {\n",
       "        text-align: right;\n",
       "    }\n",
       "</style>\n",
       "<table border=\"1\" class=\"dataframe\">\n",
       "  <thead>\n",
       "    <tr style=\"text-align: right;\">\n",
       "      <th></th>\n",
       "      <th>Variables</th>\n",
       "      <th>Missing_percentage</th>\n",
       "    </tr>\n",
       "  </thead>\n",
       "  <tbody>\n",
       "    <tr>\n",
       "      <td>0</td>\n",
       "      <td>Body_mass_index</td>\n",
       "      <td>4.038997</td>\n",
       "    </tr>\n",
       "    <tr>\n",
       "      <td>1</td>\n",
       "      <td>Height</td>\n",
       "      <td>1.949861</td>\n",
       "    </tr>\n",
       "    <tr>\n",
       "      <td>2</td>\n",
       "      <td>Education</td>\n",
       "      <td>1.392758</td>\n",
       "    </tr>\n",
       "    <tr>\n",
       "      <td>3</td>\n",
       "      <td>Work_load_Average/day_</td>\n",
       "      <td>1.114206</td>\n",
       "    </tr>\n",
       "    <tr>\n",
       "      <td>4</td>\n",
       "      <td>Transportation_expense</td>\n",
       "      <td>0.835655</td>\n",
       "    </tr>\n",
       "    <tr>\n",
       "      <td>5</td>\n",
       "      <td>Son</td>\n",
       "      <td>0.835655</td>\n",
       "    </tr>\n",
       "    <tr>\n",
       "      <td>6</td>\n",
       "      <td>Hit_target</td>\n",
       "      <td>0.835655</td>\n",
       "    </tr>\n",
       "    <tr>\n",
       "      <td>7</td>\n",
       "      <td>Disciplinary_failure</td>\n",
       "      <td>0.696379</td>\n",
       "    </tr>\n",
       "    <tr>\n",
       "      <td>8</td>\n",
       "      <td>Social_smoker</td>\n",
       "      <td>0.557103</td>\n",
       "    </tr>\n",
       "    <tr>\n",
       "      <td>9</td>\n",
       "      <td>Month_of_absence</td>\n",
       "      <td>0.557103</td>\n",
       "    </tr>\n",
       "    <tr>\n",
       "      <td>10</td>\n",
       "      <td>Social_drinker</td>\n",
       "      <td>0.417827</td>\n",
       "    </tr>\n",
       "    <tr>\n",
       "      <td>11</td>\n",
       "      <td>Reason_for_absence</td>\n",
       "      <td>0.417827</td>\n",
       "    </tr>\n",
       "    <tr>\n",
       "      <td>12</td>\n",
       "      <td>Service_time</td>\n",
       "      <td>0.417827</td>\n",
       "    </tr>\n",
       "    <tr>\n",
       "      <td>13</td>\n",
       "      <td>Distance_from_Residence_to_Work</td>\n",
       "      <td>0.417827</td>\n",
       "    </tr>\n",
       "    <tr>\n",
       "      <td>14</td>\n",
       "      <td>Age</td>\n",
       "      <td>0.278552</td>\n",
       "    </tr>\n",
       "    <tr>\n",
       "      <td>15</td>\n",
       "      <td>Pet</td>\n",
       "      <td>0.278552</td>\n",
       "    </tr>\n",
       "    <tr>\n",
       "      <td>16</td>\n",
       "      <td>Weight</td>\n",
       "      <td>0.139276</td>\n",
       "    </tr>\n",
       "    <tr>\n",
       "      <td>17</td>\n",
       "      <td>Seasons</td>\n",
       "      <td>0.000000</td>\n",
       "    </tr>\n",
       "    <tr>\n",
       "      <td>18</td>\n",
       "      <td>Day_of_the_week</td>\n",
       "      <td>0.000000</td>\n",
       "    </tr>\n",
       "    <tr>\n",
       "      <td>19</td>\n",
       "      <td>Absenteeism_time_in_hours</td>\n",
       "      <td>0.000000</td>\n",
       "    </tr>\n",
       "  </tbody>\n",
       "</table>\n",
       "</div>"
      ],
      "text/plain": [
       "                          Variables  Missing_percentage\n",
       "0                   Body_mass_index            4.038997\n",
       "1                            Height            1.949861\n",
       "2                         Education            1.392758\n",
       "3            Work_load_Average/day_            1.114206\n",
       "4            Transportation_expense            0.835655\n",
       "5                               Son            0.835655\n",
       "6                        Hit_target            0.835655\n",
       "7              Disciplinary_failure            0.696379\n",
       "8                     Social_smoker            0.557103\n",
       "9                  Month_of_absence            0.557103\n",
       "10                   Social_drinker            0.417827\n",
       "11               Reason_for_absence            0.417827\n",
       "12                     Service_time            0.417827\n",
       "13  Distance_from_Residence_to_Work            0.417827\n",
       "14                              Age            0.278552\n",
       "15                              Pet            0.278552\n",
       "16                           Weight            0.139276\n",
       "17                          Seasons            0.000000\n",
       "18                  Day_of_the_week            0.000000\n",
       "19        Absenteeism_time_in_hours            0.000000"
      ]
     },
     "execution_count": 27,
     "metadata": {},
     "output_type": "execute_result"
    }
   ],
   "source": [
    "missingvalue"
   ]
  },
  {
   "cell_type": "code",
   "execution_count": 28,
   "metadata": {},
   "outputs": [
    {
     "data": {
      "image/png": "[encoded data removed]",
      "text/plain": [
       "<Figure size 432x288 with 1 Axes>"
      ]
     },
     "metadata": {
      "needs_background": "light"
     },
     "output_type": "display_data"
    }
   ],
   "source": [
    "#plot missing values on bar graph\n",
    "plt.bar(missingvalue[\"Variables\"], missingvalue[\"Missing_percentage\"] )\n",
    "plt.xticks(rotation=90)\n",
    "plt.ylabel(\"Missing values percentage\")\n",
    "plt.title('Missing value analysis')\n",
    "\n",
    "plt.show()"
   ]
  },
  {
   "cell_type": "code",
   "execution_count": 29,
   "metadata": {},
   "outputs": [
    {
     "name": "stdout",
     "output_type": "stream",
     "text": [
      "Reason_for_absence\n",
      "0      26.0\n",
      "1       0.0\n",
      "2      23.0\n",
      "3       7.0\n",
      "4      23.0\n",
      "       ... \n",
      "735    14.0\n",
      "736    11.0\n",
      "737     0.0\n",
      "738     0.0\n",
      "739     0.0\n",
      "Name: Reason_for_absence, Length: 718, dtype: float64\n",
      "Month_of_absence\n",
      "0      7.0\n",
      "1      7.0\n",
      "2      7.0\n",
      "3      7.0\n",
      "4      7.0\n",
      "      ... \n",
      "735    7.0\n",
      "736    7.0\n",
      "737    3.0\n",
      "738    3.0\n",
      "739    3.0\n",
      "Name: Month_of_absence, Length: 718, dtype: float64\n",
      "Day_of_the_week\n",
      "0      3\n",
      "1      3\n",
      "2      4\n",
      "3      5\n",
      "4      5\n",
      "      ..\n",
      "735    3\n",
      "736    3\n",
      "737    3\n",
      "738    4\n",
      "739    6\n",
      "Name: Day_of_the_week, Length: 718, dtype: int64\n",
      "Seasons\n",
      "0      1\n",
      "1      1\n",
      "2      1\n",
      "3      1\n",
      "4      1\n",
      "      ..\n",
      "735    1\n",
      "736    1\n",
      "737    1\n",
      "738    2\n",
      "739    3\n",
      "Name: Seasons, Length: 718, dtype: int64\n",
      "Disciplinary_failure\n",
      "0      0.0\n",
      "1      1.0\n",
      "2      0.0\n",
      "3      0.0\n",
      "4      0.0\n",
      "      ... \n",
      "735    0.0\n",
      "736    0.0\n",
      "737    0.0\n",
      "738    0.0\n",
      "739    0.0\n",
      "Name: Disciplinary_failure, Length: 718, dtype: float64\n",
      "Education\n",
      "0      1.0\n",
      "1      1.0\n",
      "2      1.0\n",
      "3      1.0\n",
      "4      1.0\n",
      "      ... \n",
      "735    1.0\n",
      "736    3.0\n",
      "737    1.0\n",
      "738    1.0\n",
      "739    1.0\n",
      "Name: Education, Length: 718, dtype: float64\n",
      "Son\n",
      "0      2.0\n",
      "1      1.0\n",
      "2      0.0\n",
      "3      2.0\n",
      "4      2.0\n",
      "      ... \n",
      "735    2.0\n",
      "736    1.0\n",
      "737    1.0\n",
      "738    2.0\n",
      "739    1.0\n",
      "Name: Son, Length: 718, dtype: float64\n",
      "Social_drinker\n",
      "0      1.0\n",
      "1      1.0\n",
      "2      1.0\n",
      "3      1.0\n",
      "4      1.0\n",
      "      ... \n",
      "735    1.0\n",
      "736    0.0\n",
      "737    1.0\n",
      "738    1.0\n",
      "739    0.0\n",
      "Name: Social_drinker, Length: 718, dtype: float64\n",
      "Social_smoker\n",
      "0      0.0\n",
      "1      0.0\n",
      "2      0.0\n",
      "3      1.0\n",
      "4      0.0\n",
      "      ... \n",
      "735    0.0\n",
      "736    0.0\n",
      "737    0.0\n",
      "738    0.0\n",
      "739    0.0\n",
      "Name: Social_smoker, Length: 718, dtype: float64\n",
      "Pet\n",
      "0      1.0\n",
      "1      0.0\n",
      "2      0.0\n",
      "3      0.0\n",
      "4      1.0\n",
      "      ... \n",
      "735    1.0\n",
      "736    1.0\n",
      "737    8.0\n",
      "738    2.0\n",
      "739    1.0\n",
      "Name: Pet, Length: 718, dtype: float64\n"
     ]
    }
   ],
   "source": [
    "#Missing value imputation for categorical variables\n",
    "for i in cat_names :\n",
    "    print(i)\n",
    "    data_employee[i] = data_employee[i].fillna(data_employee[i].mode()[0])\n",
    "    print(data_employee[i])"
   ]
  },
  {
   "cell_type": "code",
   "execution_count": 31,
   "metadata": {},
   "outputs": [
    {
     "data": {
      "text/plain": [
       "31.0"
      ]
     },
     "execution_count": 31,
     "metadata": {},
     "output_type": "execute_result"
    }
   ],
   "source": [
    "#Missing value imputation for numeric values\n",
    "data_employee[\"Body_mass_index\"][30]\n",
    "#actual value = 31\n",
    "#Mean = 26.700581395348838\n",
    "#median = 25.0\n",
    "#KNN = 33.0"
   ]
  },
  {
   "cell_type": "code",
   "execution_count": 34,
   "metadata": {},
   "outputs": [
    {
     "name": "stderr",
     "output_type": "stream",
     "text": [
      "C:\\Users\\dcdc\\Anaconda3\\lib\\site-packages\\ipykernel_launcher.py:1: SettingWithCopyWarning: \n",
      "A value is trying to be set on a copy of a slice from a DataFrame\n",
      "\n",
      "See the caveats in the documentation: http://pandas.pydata.org/pandas-docs/stable/user_guide/indexing.html#returning-a-view-versus-a-copy\n",
      "  \"\"\"Entry point for launching an IPython kernel.\n"
     ]
    }
   ],
   "source": [
    "data_employee[\"Body_mass_index\"][30] = np.NaN"
   ]
  },
  {
   "cell_type": "code",
   "execution_count": 35,
   "metadata": {},
   "outputs": [],
   "source": [
    "#Mean method\n",
    "data_employee[\"Body_mass_index\"] = data_employee[\"Body_mass_index\"].fillna(data_employee[\"Body_mass_index\"].mean())"
   ]
  },
  {
   "cell_type": "code",
   "execution_count": 36,
   "metadata": {},
   "outputs": [
    {
     "data": {
      "text/plain": [
       "26.70083378372634"
      ]
     },
     "execution_count": 36,
     "metadata": {},
     "output_type": "execute_result"
    }
   ],
   "source": [
    "data_employee[\"Body_mass_index\"][30]"
   ]
  },
  {
   "cell_type": "code",
   "execution_count": 37,
   "metadata": {},
   "outputs": [
    {
     "name": "stderr",
     "output_type": "stream",
     "text": [
      "C:\\Users\\dcdc\\Anaconda3\\lib\\site-packages\\ipykernel_launcher.py:1: SettingWithCopyWarning: \n",
      "A value is trying to be set on a copy of a slice from a DataFrame\n",
      "\n",
      "See the caveats in the documentation: http://pandas.pydata.org/pandas-docs/stable/user_guide/indexing.html#returning-a-view-versus-a-copy\n",
      "  \"\"\"Entry point for launching an IPython kernel.\n"
     ]
    }
   ],
   "source": [
    "data_employee[\"Body_mass_index\"][30]= np.NaN"
   ]
  },
  {
   "cell_type": "code",
   "execution_count": 39,
   "metadata": {},
   "outputs": [],
   "source": [
    "#Meian\n",
    "data_employee[\"Body_mass_index\"] = data_employee[\"Body_mass_index\"].fillna(data_employee[\"Body_mass_index\"].median())"
   ]
  },
  {
   "cell_type": "code",
   "execution_count": 40,
   "metadata": {},
   "outputs": [
    {
     "data": {
      "text/plain": [
       "25.0"
      ]
     },
     "execution_count": 40,
     "metadata": {},
     "output_type": "execute_result"
    }
   ],
   "source": [
    "data_employee[\"Body_mass_index\"][30]"
   ]
  },
  {
   "cell_type": "code",
   "execution_count": 41,
   "metadata": {},
   "outputs": [
    {
     "name": "stderr",
     "output_type": "stream",
     "text": [
      "C:\\Users\\dcdc\\Anaconda3\\lib\\site-packages\\ipykernel_launcher.py:1: SettingWithCopyWarning: \n",
      "A value is trying to be set on a copy of a slice from a DataFrame\n",
      "\n",
      "See the caveats in the documentation: http://pandas.pydata.org/pandas-docs/stable/user_guide/indexing.html#returning-a-view-versus-a-copy\n",
      "  \"\"\"Entry point for launching an IPython kernel.\n"
     ]
    }
   ],
   "source": [
    "data_employee[\"Body_mass_index\"][30]= np.NaN"
   ]
  },
  {
   "cell_type": "code",
   "execution_count": 42,
   "metadata": {},
   "outputs": [
    {
     "name": "stdout",
     "output_type": "stream",
     "text": [
      "Imputing row 1/718 with 0 missing, elapsed time: 0.633\n",
      "Imputing row 101/718 with 0 missing, elapsed time: 0.659\n",
      "Imputing row 201/718 with 0 missing, elapsed time: 0.661\n",
      "Imputing row 301/718 with 0 missing, elapsed time: 0.662\n",
      "Imputing row 401/718 with 0 missing, elapsed time: 0.662\n",
      "Imputing row 501/718 with 1 missing, elapsed time: 0.663\n",
      "Imputing row 601/718 with 0 missing, elapsed time: 0.664\n",
      "Imputing row 701/718 with 0 missing, elapsed time: 0.664\n"
     ]
    }
   ],
   "source": [
    "#KNN imputation method\n",
    "data_employee = pd.DataFrame(KNN(k = 3).fit_transform(data_employee), columns = data_employee.columns)"
   ]
  },
  {
   "cell_type": "code",
   "execution_count": 43,
   "metadata": {},
   "outputs": [
    {
     "data": {
      "text/plain": [
       "33.0"
      ]
     },
     "execution_count": 43,
     "metadata": {},
     "output_type": "execute_result"
    }
   ],
   "source": [
    "data_employee[\"Body_mass_index\"][30]"
   ]
  },
  {
   "cell_type": "markdown",
   "metadata": {},
   "source": [
    ">>**outlier analysis"
   ]
  },
  {
   "cell_type": "code",
   "execution_count": 44,
   "metadata": {},
   "outputs": [
    {
     "name": "stdout",
     "output_type": "stream",
     "text": [
      "Transportation_expense\n"
     ]
    },
    {
     "data": {
      "image/png": "[encoded data removed]",
      "text/plain": [
       "<Figure size 432x288 with 1 Axes>"
      ]
     },
     "metadata": {
      "needs_background": "light"
     },
     "output_type": "display_data"
    },
    {
     "name": "stdout",
     "output_type": "stream",
     "text": [
      "Distance_from_Residence_to_Work\n"
     ]
    },
    {
     "data": {
      "image/png": "[encoded data removed]",
      "text/plain": [
       "<Figure size 432x288 with 1 Axes>"
      ]
     },
     "metadata": {
      "needs_background": "light"
     },
     "output_type": "display_data"
    },
    {
     "name": "stdout",
     "output_type": "stream",
     "text": [
      "Service_time\n"
     ]
    },
    {
     "data": {
      "image/png": "[encoded data removed]",
      "text/plain": [
       "<Figure size 432x288 with 1 Axes>"
      ]
     },
     "metadata": {
      "needs_background": "light"
     },
     "output_type": "display_data"
    },
    {
     "name": "stdout",
     "output_type": "stream",
     "text": [
      "Age\n"
     ]
    },
    {
     "data": {
      "image/png": "[encoded data removed]",
      "text/plain": [
       "<Figure size 432x288 with 1 Axes>"
      ]
     },
     "metadata": {
      "needs_background": "light"
     },
     "output_type": "display_data"
    },
    {
     "name": "stdout",
     "output_type": "stream",
     "text": [
      "Work_load_Average/day_\n"
     ]
    },
    {
     "data": {
      "image/png": "[encoded data removed]",
      "text/plain": [
       "<Figure size 432x288 with 1 Axes>"
      ]
     },
     "metadata": {
      "needs_background": "light"
     },
     "output_type": "display_data"
    },
    {
     "name": "stdout",
     "output_type": "stream",
     "text": [
      "Hit_target\n"
     ]
    },
    {
     "data": {
      "image/png": "[encoded data removed]",
      "text/plain": [
       "<Figure size 432x288 with 1 Axes>"
      ]
     },
     "metadata": {
      "needs_background": "light"
     },
     "output_type": "display_data"
    },
    {
     "name": "stdout",
     "output_type": "stream",
     "text": [
      "Weight\n"
     ]
    },
    {
     "data": {
      "image/png": "[encoded data removed]",
      "text/plain": [
       "<Figure size 432x288 with 1 Axes>"
      ]
     },
     "metadata": {
      "needs_background": "light"
     },
     "output_type": "display_data"
    },
    {
     "name": "stdout",
     "output_type": "stream",
     "text": [
      "Height\n"
     ]
    },
    {
     "data": {
      "image/png": "[encoded data removed]",
      "text/plain": [
       "<Figure size 432x288 with 1 Axes>"
      ]
     },
     "metadata": {
      "needs_background": "light"
     },
     "output_type": "display_data"
    },
    {
     "name": "stdout",
     "output_type": "stream",
     "text": [
      "Body_mass_index\n"
     ]
    },
    {
     "data": {
      "image/png": "[encoded data removed]",
      "text/plain": [
       "<Figure size 432x288 with 1 Axes>"
      ]
     },
     "metadata": {
      "needs_background": "light"
     },
     "output_type": "display_data"
    },
    {
     "name": "stdout",
     "output_type": "stream",
     "text": [
      "Absenteeism_time_in_hours\n"
     ]
    },
    {
     "data": {
      "image/png": "[encoded data removed]",
      "text/plain": [
       "<Figure size 432x288 with 1 Axes>"
      ]
     },
     "metadata": {
      "needs_background": "light"
     },
     "output_type": "display_data"
    }
   ],
   "source": [
    "df = data_employee.copy()\n",
    "data_employee = df.copy()\n",
    "\n",
    "#Outlier analysis\n",
    "for i in cnames :\n",
    "    print(i)\n",
    "    plt.boxplot(data_employee[i])\n",
    "    plt.xlabel(i)\n",
    "    plt.ylabel(\"values\")\n",
    "    plt.title(\"Boxplot of \"+i)\n",
    "    plt.show()"
   ]
  },
  {
   "cell_type": "code",
   "execution_count": 45,
   "metadata": {},
   "outputs": [
    {
     "data": {
      "text/plain": [
       "['Transportation_expense',\n",
       " 'Distance_from_Residence_to_Work',\n",
       " 'Service_time',\n",
       " 'Age',\n",
       " 'Work_load_Average/day_',\n",
       " 'Hit_target',\n",
       " 'Weight',\n",
       " 'Height',\n",
       " 'Body_mass_index',\n",
       " 'Absenteeism_time_in_hours']"
      ]
     },
     "execution_count": 45,
     "metadata": {},
     "output_type": "execute_result"
    }
   ],
   "source": [
    "cnames"
   ]
  },
  {
   "cell_type": "code",
   "execution_count": 46,
   "metadata": {},
   "outputs": [
    {
     "name": "stdout",
     "output_type": "stream",
     "text": [
      "Transportation_expense\n",
      "Minimum : 57.5\n",
      "Maximum : 381.5\n",
      "IQR : 81.0\n",
      "Distance_from_Residence_to_Work\n",
      "Minimum : -35.0\n",
      "Maximum : 101.0\n",
      "IQR : 34.0\n",
      "Service_time\n",
      "Minimum : -1.5\n",
      "Maximum : 26.5\n",
      "IQR : 7.0\n",
      "Age\n",
      "Minimum : 17.5\n",
      "Maximum : 53.5\n",
      "IQR : 9.0\n",
      "Work_load_Average/day_\n",
      "Minimum : 173.15350000000004\n",
      "Maximum : 363.1094999999999\n",
      "IQR : 47.488999999999976\n",
      "Hit_target\n",
      "Minimum : 87.0\n",
      "Maximum : 103.0\n",
      "IQR : 4.0\n",
      "Weight\n",
      "Minimum : 39.0\n",
      "Maximum : 119.0\n",
      "IQR : 20.0\n",
      "Height\n",
      "Minimum : 164.5\n",
      "Maximum : 176.5\n",
      "IQR : 3.0\n",
      "Body_mass_index\n",
      "Minimum : 13.5\n",
      "Maximum : 41.5\n",
      "IQR : 7.0\n",
      "Absenteeism_time_in_hours\n",
      "Minimum : -7.0\n",
      "Maximum : 17.0\n",
      "IQR : 6.0\n"
     ]
    }
   ],
   "source": [
    "#calulate iqr, min and max\n",
    "for i in cnames:\n",
    "    print(i)\n",
    "    q75, q25 = np.percentile(data_employee.loc[:,i], [75 ,25])\n",
    "    iqr = q75 - q25\n",
    "    min = q25 - (iqr*1.5)\n",
    "    max = q75 + (iqr*1.5)\n",
    "    print(\"Minimum : \"+ str(min))\n",
    "    print(\"Maximum : \"+ str(max))\n",
    "    print(\"IQR : \"+ str(iqr))\n",
    "    \n",
    "    #Replace with nan\n",
    "    data_employee.loc[data_employee[i]< min,i] = np.nan\n",
    "    data_employee.loc[data_employee[i]> max,i] = np.nan"
   ]
  },
  {
   "cell_type": "code",
   "execution_count": 47,
   "metadata": {},
   "outputs": [],
   "source": [
    "missing_val = pd.DataFrame(data_employee.isnull().sum())"
   ]
  },
  {
   "cell_type": "code",
   "execution_count": 48,
   "metadata": {},
   "outputs": [
    {
     "data": {
      "text/html": [
       "<div>\n",
       "<style scoped>\n",
       "    .dataframe tbody tr th:only-of-type {\n",
       "        vertical-align: middle;\n",
       "    }\n",
       "\n",
       "    .dataframe tbody tr th {\n",
       "        vertical-align: top;\n",
       "    }\n",
       "\n",
       "    .dataframe thead th {\n",
       "        text-align: right;\n",
       "    }\n",
       "</style>\n",
       "<table border=\"1\" class=\"dataframe\">\n",
       "  <thead>\n",
       "    <tr style=\"text-align: right;\">\n",
       "      <th></th>\n",
       "      <th>0</th>\n",
       "    </tr>\n",
       "  </thead>\n",
       "  <tbody>\n",
       "    <tr>\n",
       "      <td>Reason_for_absence</td>\n",
       "      <td>0</td>\n",
       "    </tr>\n",
       "    <tr>\n",
       "      <td>Month_of_absence</td>\n",
       "      <td>0</td>\n",
       "    </tr>\n",
       "    <tr>\n",
       "      <td>Day_of_the_week</td>\n",
       "      <td>0</td>\n",
       "    </tr>\n",
       "    <tr>\n",
       "      <td>Seasons</td>\n",
       "      <td>0</td>\n",
       "    </tr>\n",
       "    <tr>\n",
       "      <td>Transportation_expense</td>\n",
       "      <td>3</td>\n",
       "    </tr>\n",
       "    <tr>\n",
       "      <td>Distance_from_Residence_to_Work</td>\n",
       "      <td>0</td>\n",
       "    </tr>\n",
       "    <tr>\n",
       "      <td>Service_time</td>\n",
       "      <td>5</td>\n",
       "    </tr>\n",
       "    <tr>\n",
       "      <td>Age</td>\n",
       "      <td>8</td>\n",
       "    </tr>\n",
       "    <tr>\n",
       "      <td>Work_load_Average/day_</td>\n",
       "      <td>29</td>\n",
       "    </tr>\n",
       "    <tr>\n",
       "      <td>Hit_target</td>\n",
       "      <td>19</td>\n",
       "    </tr>\n",
       "    <tr>\n",
       "      <td>Disciplinary_failure</td>\n",
       "      <td>0</td>\n",
       "    </tr>\n",
       "    <tr>\n",
       "      <td>Education</td>\n",
       "      <td>0</td>\n",
       "    </tr>\n",
       "    <tr>\n",
       "      <td>Son</td>\n",
       "      <td>0</td>\n",
       "    </tr>\n",
       "    <tr>\n",
       "      <td>Social_drinker</td>\n",
       "      <td>0</td>\n",
       "    </tr>\n",
       "    <tr>\n",
       "      <td>Social_smoker</td>\n",
       "      <td>0</td>\n",
       "    </tr>\n",
       "    <tr>\n",
       "      <td>Pet</td>\n",
       "      <td>0</td>\n",
       "    </tr>\n",
       "    <tr>\n",
       "      <td>Weight</td>\n",
       "      <td>0</td>\n",
       "    </tr>\n",
       "    <tr>\n",
       "      <td>Height</td>\n",
       "      <td>114</td>\n",
       "    </tr>\n",
       "    <tr>\n",
       "      <td>Body_mass_index</td>\n",
       "      <td>0</td>\n",
       "    </tr>\n",
       "    <tr>\n",
       "      <td>Absenteeism_time_in_hours</td>\n",
       "      <td>43</td>\n",
       "    </tr>\n",
       "  </tbody>\n",
       "</table>\n",
       "</div>"
      ],
      "text/plain": [
       "                                   0\n",
       "Reason_for_absence                 0\n",
       "Month_of_absence                   0\n",
       "Day_of_the_week                    0\n",
       "Seasons                            0\n",
       "Transportation_expense             3\n",
       "Distance_from_Residence_to_Work    0\n",
       "Service_time                       5\n",
       "Age                                8\n",
       "Work_load_Average/day_            29\n",
       "Hit_target                        19\n",
       "Disciplinary_failure               0\n",
       "Education                          0\n",
       "Son                                0\n",
       "Social_drinker                     0\n",
       "Social_smoker                      0\n",
       "Pet                                0\n",
       "Weight                             0\n",
       "Height                           114\n",
       "Body_mass_index                    0\n",
       "Absenteeism_time_in_hours         43"
      ]
     },
     "execution_count": 48,
     "metadata": {},
     "output_type": "execute_result"
    }
   ],
   "source": [
    "missing_val"
   ]
  },
  {
   "cell_type": "code",
   "execution_count": 49,
   "metadata": {},
   "outputs": [
    {
     "name": "stdout",
     "output_type": "stream",
     "text": [
      "(718, 20)\n"
     ]
    }
   ],
   "source": [
    "print(data_employee.shape)"
   ]
  },
  {
   "cell_type": "code",
   "execution_count": 50,
   "metadata": {},
   "outputs": [
    {
     "name": "stdout",
     "output_type": "stream",
     "text": [
      "Imputing row 1/718 with 0 missing, elapsed time: 0.174\n",
      "Imputing row 101/718 with 0 missing, elapsed time: 0.175\n",
      "Imputing row 201/718 with 1 missing, elapsed time: 0.177\n",
      "Imputing row 301/718 with 0 missing, elapsed time: 0.180\n",
      "Imputing row 401/718 with 0 missing, elapsed time: 0.181\n",
      "Imputing row 501/718 with 0 missing, elapsed time: 0.183\n",
      "Imputing row 601/718 with 2 missing, elapsed time: 0.184\n",
      "Imputing row 701/718 with 0 missing, elapsed time: 0.186\n"
     ]
    }
   ],
   "source": [
    "#KNN imputation method\n",
    "data_employee = pd.DataFrame(KNN(k = 3).fit_transform(data_employee), columns = data_employee.columns)"
   ]
  },
  {
   "cell_type": "markdown",
   "metadata": {},
   "source": [
    ">>**Feature selection"
   ]
  },
  {
   "cell_type": "code",
   "execution_count": 51,
   "metadata": {},
   "outputs": [],
   "source": [
    "df = data_employee.copy()\n",
    "data_employee = df.copy()"
   ]
  },
  {
   "cell_type": "code",
   "execution_count": 52,
   "metadata": {},
   "outputs": [],
   "source": [
    "#correlation analysis for continuse variables\n",
    "#extract only numerical variable \n",
    "data_num = data_employee.loc[:,cnames]\n",
    "\n",
    "corrAna = data_num.corr()"
   ]
  },
  {
   "cell_type": "code",
   "execution_count": 53,
   "metadata": {},
   "outputs": [
    {
     "data": {
      "text/html": [
       "<div>\n",
       "<style scoped>\n",
       "    .dataframe tbody tr th:only-of-type {\n",
       "        vertical-align: middle;\n",
       "    }\n",
       "\n",
       "    .dataframe tbody tr th {\n",
       "        vertical-align: top;\n",
       "    }\n",
       "\n",
       "    .dataframe thead th {\n",
       "        text-align: right;\n",
       "    }\n",
       "</style>\n",
       "<table border=\"1\" class=\"dataframe\">\n",
       "  <thead>\n",
       "    <tr style=\"text-align: right;\">\n",
       "      <th></th>\n",
       "      <th>Transportation_expense</th>\n",
       "      <th>Distance_from_Residence_to_Work</th>\n",
       "      <th>Service_time</th>\n",
       "      <th>Age</th>\n",
       "      <th>Work_load_Average/day_</th>\n",
       "      <th>Hit_target</th>\n",
       "      <th>Weight</th>\n",
       "      <th>Height</th>\n",
       "      <th>Body_mass_index</th>\n",
       "      <th>Absenteeism_time_in_hours</th>\n",
       "    </tr>\n",
       "  </thead>\n",
       "  <tbody>\n",
       "    <tr>\n",
       "      <td>Transportation_expense</td>\n",
       "      <td>1.000000</td>\n",
       "      <td>0.266953</td>\n",
       "      <td>-0.385904</td>\n",
       "      <td>-0.261337</td>\n",
       "      <td>-0.014743</td>\n",
       "      <td>-0.083629</td>\n",
       "      <td>-0.198483</td>\n",
       "      <td>-0.061860</td>\n",
       "      <td>-0.120901</td>\n",
       "      <td>0.192252</td>\n",
       "    </tr>\n",
       "    <tr>\n",
       "      <td>Distance_from_Residence_to_Work</td>\n",
       "      <td>0.266953</td>\n",
       "      <td>1.000000</td>\n",
       "      <td>0.121563</td>\n",
       "      <td>-0.095107</td>\n",
       "      <td>-0.081671</td>\n",
       "      <td>0.026998</td>\n",
       "      <td>-0.031946</td>\n",
       "      <td>-0.197790</td>\n",
       "      <td>0.129798</td>\n",
       "      <td>-0.004007</td>\n",
       "    </tr>\n",
       "    <tr>\n",
       "      <td>Service_time</td>\n",
       "      <td>-0.385904</td>\n",
       "      <td>0.121563</td>\n",
       "      <td>1.000000</td>\n",
       "      <td>0.646498</td>\n",
       "      <td>-0.063297</td>\n",
       "      <td>0.050159</td>\n",
       "      <td>0.423626</td>\n",
       "      <td>-0.056015</td>\n",
       "      <td>0.464528</td>\n",
       "      <td>-0.058136</td>\n",
       "    </tr>\n",
       "    <tr>\n",
       "      <td>Age</td>\n",
       "      <td>-0.261337</td>\n",
       "      <td>-0.095107</td>\n",
       "      <td>0.646498</td>\n",
       "      <td>1.000000</td>\n",
       "      <td>-0.054406</td>\n",
       "      <td>-0.018698</td>\n",
       "      <td>0.498222</td>\n",
       "      <td>-0.105405</td>\n",
       "      <td>0.541702</td>\n",
       "      <td>-0.083703</td>\n",
       "    </tr>\n",
       "    <tr>\n",
       "      <td>Work_load_Average/day_</td>\n",
       "      <td>-0.014743</td>\n",
       "      <td>-0.081671</td>\n",
       "      <td>-0.063297</td>\n",
       "      <td>-0.054406</td>\n",
       "      <td>1.000000</td>\n",
       "      <td>0.031990</td>\n",
       "      <td>-0.093758</td>\n",
       "      <td>-0.051127</td>\n",
       "      <td>-0.107022</td>\n",
       "      <td>0.050634</td>\n",
       "    </tr>\n",
       "    <tr>\n",
       "      <td>Hit_target</td>\n",
       "      <td>-0.083629</td>\n",
       "      <td>0.026998</td>\n",
       "      <td>0.050159</td>\n",
       "      <td>-0.018698</td>\n",
       "      <td>0.031990</td>\n",
       "      <td>1.000000</td>\n",
       "      <td>-0.016497</td>\n",
       "      <td>0.037060</td>\n",
       "      <td>-0.048425</td>\n",
       "      <td>0.028132</td>\n",
       "    </tr>\n",
       "    <tr>\n",
       "      <td>Weight</td>\n",
       "      <td>-0.198483</td>\n",
       "      <td>-0.031946</td>\n",
       "      <td>0.423626</td>\n",
       "      <td>0.498222</td>\n",
       "      <td>-0.093758</td>\n",
       "      <td>-0.016497</td>\n",
       "      <td>1.000000</td>\n",
       "      <td>0.151494</td>\n",
       "      <td>0.888061</td>\n",
       "      <td>-0.010927</td>\n",
       "    </tr>\n",
       "    <tr>\n",
       "      <td>Height</td>\n",
       "      <td>-0.061860</td>\n",
       "      <td>-0.197790</td>\n",
       "      <td>-0.056015</td>\n",
       "      <td>-0.105405</td>\n",
       "      <td>-0.051127</td>\n",
       "      <td>0.037060</td>\n",
       "      <td>0.151494</td>\n",
       "      <td>1.000000</td>\n",
       "      <td>-0.110697</td>\n",
       "      <td>0.043081</td>\n",
       "    </tr>\n",
       "    <tr>\n",
       "      <td>Body_mass_index</td>\n",
       "      <td>-0.120901</td>\n",
       "      <td>0.129798</td>\n",
       "      <td>0.464528</td>\n",
       "      <td>0.541702</td>\n",
       "      <td>-0.107022</td>\n",
       "      <td>-0.048425</td>\n",
       "      <td>0.888061</td>\n",
       "      <td>-0.110697</td>\n",
       "      <td>1.000000</td>\n",
       "      <td>-0.036861</td>\n",
       "    </tr>\n",
       "    <tr>\n",
       "      <td>Absenteeism_time_in_hours</td>\n",
       "      <td>0.192252</td>\n",
       "      <td>-0.004007</td>\n",
       "      <td>-0.058136</td>\n",
       "      <td>-0.083703</td>\n",
       "      <td>0.050634</td>\n",
       "      <td>0.028132</td>\n",
       "      <td>-0.010927</td>\n",
       "      <td>0.043081</td>\n",
       "      <td>-0.036861</td>\n",
       "      <td>1.000000</td>\n",
       "    </tr>\n",
       "  </tbody>\n",
       "</table>\n",
       "</div>"
      ],
      "text/plain": [
       "                                 Transportation_expense  \\\n",
       "Transportation_expense                         1.000000   \n",
       "Distance_from_Residence_to_Work                0.266953   \n",
       "Service_time                                  -0.385904   \n",
       "Age                                           -0.261337   \n",
       "Work_load_Average/day_                        -0.014743   \n",
       "Hit_target                                    -0.083629   \n",
       "Weight                                        -0.198483   \n",
       "Height                                        -0.061860   \n",
       "Body_mass_index                               -0.120901   \n",
       "Absenteeism_time_in_hours                      0.192252   \n",
       "\n",
       "                                 Distance_from_Residence_to_Work  \\\n",
       "Transportation_expense                                  0.266953   \n",
       "Distance_from_Residence_to_Work                         1.000000   \n",
       "Service_time                                            0.121563   \n",
       "Age                                                    -0.095107   \n",
       "Work_load_Average/day_                                 -0.081671   \n",
       "Hit_target                                              0.026998   \n",
       "Weight                                                 -0.031946   \n",
       "Height                                                 -0.197790   \n",
       "Body_mass_index                                         0.129798   \n",
       "Absenteeism_time_in_hours                              -0.004007   \n",
       "\n",
       "                                 Service_time       Age  \\\n",
       "Transportation_expense              -0.385904 -0.261337   \n",
       "Distance_from_Residence_to_Work      0.121563 -0.095107   \n",
       "Service_time                         1.000000  0.646498   \n",
       "Age                                  0.646498  1.000000   \n",
       "Work_load_Average/day_              -0.063297 -0.054406   \n",
       "Hit_target                           0.050159 -0.018698   \n",
       "Weight                               0.423626  0.498222   \n",
       "Height                              -0.056015 -0.105405   \n",
       "Body_mass_index                      0.464528  0.541702   \n",
       "Absenteeism_time_in_hours           -0.058136 -0.083703   \n",
       "\n",
       "                                 Work_load_Average/day_  Hit_target    Weight  \\\n",
       "Transportation_expense                        -0.014743   -0.083629 -0.198483   \n",
       "Distance_from_Residence_to_Work               -0.081671    0.026998 -0.031946   \n",
       "Service_time                                  -0.063297    0.050159  0.423626   \n",
       "Age                                           -0.054406   -0.018698  0.498222   \n",
       "Work_load_Average/day_                         1.000000    0.031990 -0.093758   \n",
       "Hit_target                                     0.031990    1.000000 -0.016497   \n",
       "Weight                                        -0.093758   -0.016497  1.000000   \n",
       "Height                                        -0.051127    0.037060  0.151494   \n",
       "Body_mass_index                               -0.107022   -0.048425  0.888061   \n",
       "Absenteeism_time_in_hours                      0.050634    0.028132 -0.010927   \n",
       "\n",
       "                                   Height  Body_mass_index  \\\n",
       "Transportation_expense          -0.061860        -0.120901   \n",
       "Distance_from_Residence_to_Work -0.197790         0.129798   \n",
       "Service_time                    -0.056015         0.464528   \n",
       "Age                             -0.105405         0.541702   \n",
       "Work_load_Average/day_          -0.051127        -0.107022   \n",
       "Hit_target                       0.037060        -0.048425   \n",
       "Weight                           0.151494         0.888061   \n",
       "Height                           1.000000        -0.110697   \n",
       "Body_mass_index                 -0.110697         1.000000   \n",
       "Absenteeism_time_in_hours        0.043081        -0.036861   \n",
       "\n",
       "                                 Absenteeism_time_in_hours  \n",
       "Transportation_expense                            0.192252  \n",
       "Distance_from_Residence_to_Work                  -0.004007  \n",
       "Service_time                                     -0.058136  \n",
       "Age                                              -0.083703  \n",
       "Work_load_Average/day_                            0.050634  \n",
       "Hit_target                                        0.028132  \n",
       "Weight                                           -0.010927  \n",
       "Height                                            0.043081  \n",
       "Body_mass_index                                  -0.036861  \n",
       "Absenteeism_time_in_hours                         1.000000  "
      ]
     },
     "execution_count": 53,
     "metadata": {},
     "output_type": "execute_result"
    }
   ],
   "source": [
    "corrAna"
   ]
  },
  {
   "cell_type": "code",
   "execution_count": 54,
   "metadata": {},
   "outputs": [
    {
     "data": {
      "text/plain": [
       "['Reason_for_absence',\n",
       " 'Month_of_absence',\n",
       " 'Day_of_the_week',\n",
       " 'Seasons',\n",
       " 'Disciplinary_failure',\n",
       " 'Education',\n",
       " 'Son',\n",
       " 'Social_drinker',\n",
       " 'Social_smoker',\n",
       " 'Pet']"
      ]
     },
     "execution_count": 54,
     "metadata": {},
     "output_type": "execute_result"
    }
   ],
   "source": [
    "cat_names"
   ]
  },
  {
   "cell_type": "code",
   "execution_count": 55,
   "metadata": {},
   "outputs": [
    {
     "data": {
      "text/plain": [
       "<matplotlib.axes._subplots.AxesSubplot at 0x1ddc9554748>"
      ]
     },
     "execution_count": 55,
     "metadata": {},
     "output_type": "execute_result"
    },
    {
     "data": {
      "image/png": "[encoded data removed]",
      "text/plain": [
       "<Figure size 576x576 with 2 Axes>"
      ]
     },
     "metadata": {
      "needs_background": "light"
     },
     "output_type": "display_data"
    }
   ],
   "source": [
    "#Plot using seaborn library\n",
    "f, ax = plt.subplots(figsize=(8, 8))\n",
    "sns.heatmap(corrAna, mask=np.zeros_like(corrAna, dtype=np.bool), cmap=sns.diverging_palette(220, 10, as_cmap=True),\n",
    "            square=True, ax=ax)"
   ]
  },
  {
   "cell_type": "code",
   "execution_count": 56,
   "metadata": {},
   "outputs": [],
   "source": [
    "cat_names = ['Reason_for_absence', 'Month_of_absence', 'Day_of_the_week', 'Seasons', 'Disciplinary_failure', 'Education', \n",
    "             'Son', 'Social_drinker', 'Social_smoker', 'Pet']"
   ]
  },
  {
   "cell_type": "code",
   "execution_count": 57,
   "metadata": {
    "scrolled": false
   },
   "outputs": [
    {
     "data": {
      "text/plain": [
       "Index(['Reason_for_absence', 'Month_of_absence', 'Day_of_the_week', 'Seasons',\n",
       "       'Transportation_expense', 'Distance_from_Residence_to_Work',\n",
       "       'Service_time', 'Age', 'Work_load_Average/day_', 'Hit_target',\n",
       "       'Disciplinary_failure', 'Education', 'Son', 'Social_drinker',\n",
       "       'Social_smoker', 'Pet', 'Weight', 'Height', 'Body_mass_index',\n",
       "       'Absenteeism_time_in_hours'],\n",
       "      dtype='object')"
      ]
     },
     "execution_count": 57,
     "metadata": {},
     "output_type": "execute_result"
    }
   ],
   "source": [
    "data_employee.columns"
   ]
  },
  {
   "cell_type": "code",
   "execution_count": 58,
   "metadata": {},
   "outputs": [
    {
     "name": "stdout",
     "output_type": "stream",
     "text": [
      "                         sum_sq     df          F    PR(>F)\n",
      "Reason_for_absence   204.595963    1.0  17.937466  0.000026\n",
      "Residual            8166.745042  716.0        NaN       NaN\n",
      "                       sum_sq     df         F    PR(>F)\n",
      "Month_of_absence     0.280067    1.0  0.023955  0.877043\n",
      "Residual          8371.060938  716.0       NaN       NaN\n",
      "                      sum_sq     df         F    PR(>F)\n",
      "Day_of_the_week    53.854847    1.0  4.636025  0.031641\n",
      "Residual         8317.486159  716.0       NaN       NaN\n",
      "               sum_sq     df         F    PR(>F)\n",
      "Seasons     29.604141    1.0  2.541025  0.111364\n",
      "Residual  8341.736864  716.0       NaN       NaN\n",
      "                           sum_sq     df          F        PR(>F)\n",
      "Disciplinary_failure   668.533980    1.0  62.142324  1.191746e-14\n",
      "Residual              7702.807026  716.0        NaN           NaN\n",
      "                sum_sq     df         F    PR(>F)\n",
      "Education     3.660608    1.0  0.313228  0.575881\n",
      "Residual   8367.680398  716.0       NaN       NaN\n",
      "               sum_sq     df          F    PR(>F)\n",
      "Son        219.838645    1.0  19.309872  0.000013\n",
      "Residual  8151.502361  716.0        NaN       NaN\n",
      "                     sum_sq     df         F   PR(>F)\n",
      "Social_drinker    71.109694    1.0  6.134111  0.01349\n",
      "Residual        8300.231312  716.0       NaN      NaN\n",
      "                    sum_sq     df         F    PR(>F)\n",
      "Social_smoker    19.534872    1.0  1.674724  0.196044\n",
      "Residual       8351.806134  716.0       NaN       NaN\n",
      "               sum_sq     df         F   PR(>F)\n",
      "Pet          4.554612    1.0  0.389768  0.53262\n",
      "Residual  8366.786394  716.0       NaN      NaN\n"
     ]
    }
   ],
   "source": [
    "#ANOVA test for categorical variable and target numeric variable\n",
    "import statsmodels.api as sm\n",
    "from statsmodels.formula.api import ols\n",
    "\n",
    "label = 'Absenteeism_time_in_hours'\n",
    "for i in cat_names :\n",
    "    frame = label + '~' + i\n",
    "    model = ols(frame, data = data_employee).fit()\n",
    "    anova = sm.stats.anova_lm(model, typ=2)\n",
    "    print(anova)"
   ]
  },
  {
   "cell_type": "code",
   "execution_count": 59,
   "metadata": {},
   "outputs": [],
   "source": [
    "#drop variables\n",
    "data_employee = data_employee.drop(['Weight', 'Pet', 'Social_smoker', 'Education', 'Seasons', 'Month_of_absence'], axis = 1)"
   ]
  },
  {
   "cell_type": "code",
   "execution_count": 60,
   "metadata": {},
   "outputs": [
    {
     "data": {
      "text/plain": [
       "(718, 14)"
      ]
     },
     "execution_count": 60,
     "metadata": {},
     "output_type": "execute_result"
    }
   ],
   "source": [
    "data_employee.shape"
   ]
  },
  {
   "cell_type": "markdown",
   "metadata": {},
   "source": [
    ">>**Feature Scaling"
   ]
  },
  {
   "cell_type": "code",
   "execution_count": 61,
   "metadata": {},
   "outputs": [],
   "source": [
    "#Updating cantinuse and categorical variables\n",
    "#Continuous variables \n",
    "cnames = [\"Transportation_expense\", \"Distance_from_Residence_to_Work\", \"Service_time\", \"Age\", \n",
    "          \"Work_load_Average/day_\", \"Hit_target\", \"Height\", \"Body_mass_index\", \"Absenteeism_time_in_hours\"]\n",
    "\n",
    "#Categorical variables\n",
    "cat_names = ['Reason_for_absence', 'Day_of_the_week', 'Disciplinary_failure', \n",
    "             'Son', 'Social_drinker']"
   ]
  },
  {
   "cell_type": "code",
   "execution_count": 62,
   "metadata": {},
   "outputs": [],
   "source": [
    "from scipy import stats"
   ]
  },
  {
   "cell_type": "code",
   "execution_count": 63,
   "metadata": {
    "scrolled": true
   },
   "outputs": [
    {
     "name": "stdout",
     "output_type": "stream",
     "text": [
      "Transportation_expense\n",
      "DescribeResult(nobs=718, minmax=(118.0, 378.0), mean=219.9680611246248, variance=4267.375558496203, skewness=0.3627652977915875, kurtosis=-0.3336017718231994)\n",
      "----------------------------------------------------------------------------------------\n",
      "Distance_from_Residence_to_Work\n",
      "DescribeResult(nobs=718, minmax=(5.0, 52.0), mean=29.54874651596777, variance=218.2870207524922, skewness=0.3205003614736522, kurtosis=-1.2387084853913544)\n",
      "----------------------------------------------------------------------------------------\n",
      "Service_time\n",
      "DescribeResult(nobs=718, minmax=(1.0, 24.0), mean=12.473537605854853, variance=17.217569340089856, skewness=-0.3395611778259695, kurtosis=-0.17000453330171572)\n",
      "----------------------------------------------------------------------------------------\n",
      "Age\n",
      "DescribeResult(nobs=718, minmax=(27.0, 53.0), mean=36.1593055120994, variance=37.20720263700773, skewness=0.4824706774958484, kurtosis=-0.2554544607658835)\n",
      "----------------------------------------------------------------------------------------\n",
      "Work_load_Average/day_\n",
      "DescribeResult(nobs=718, minmax=(205.917, 343.253), mean=267.27147338407667, variance=1044.4996317310172, skewness=0.5529859791637545, kurtosis=-0.22192536316821787)\n",
      "----------------------------------------------------------------------------------------\n",
      "Hit_target\n",
      "DescribeResult(nobs=718, minmax=(87.0, 100.0), mean=94.95301339120583, variance=9.480002723620542, skewness=-0.45701798572321595, kurtosis=-0.378049263181234)\n",
      "----------------------------------------------------------------------------------------\n",
      "Height\n",
      "DescribeResult(nobs=718, minmax=(165.0, 175.00000871636007), mean=170.26500296088625, variance=3.7531095746348573, skewness=-0.5101372035298621, kurtosis=0.7311029578287043)\n",
      "----------------------------------------------------------------------------------------\n",
      "Body_mass_index\n",
      "DescribeResult(nobs=718, minmax=(19.0, 38.0), mean=26.706821480406386, variance=17.6663569582177, skewness=0.2734848482359549, kurtosis=-0.23699914508355402)\n",
      "----------------------------------------------------------------------------------------\n",
      "Absenteeism_time_in_hours\n",
      "DescribeResult(nobs=718, minmax=(0.0, 16.0), mean=4.396305224594779, variance=11.675510468363603, skewness=1.1162803852424428, kurtosis=1.3356119986505401)\n",
      "----------------------------------------------------------------------------------------\n"
     ]
    }
   ],
   "source": [
    "#checking skewness of continous variables\n",
    "for i in cnames :\n",
    "    skewness = stats.describe(data_employee.loc[:,i])\n",
    "    print(str(i))\n",
    "    print(skewness)\n",
    "    print(\"----------------------------------------------------------------------------------------\")"
   ]
  },
  {
   "cell_type": "code",
   "execution_count": 64,
   "metadata": {},
   "outputs": [],
   "source": [
    "#since skewness of target variable is high so we will apply log to transform it\n",
    "data_employee['Absenteeism_time_in_hours'] = np.log1p(data_employee['Absenteeism_time_in_hours'])"
   ]
  },
  {
   "cell_type": "code",
   "execution_count": 65,
   "metadata": {},
   "outputs": [
    {
     "name": "stdout",
     "output_type": "stream",
     "text": [
      "Transportation_expense\n"
     ]
    },
    {
     "data": {
      "image/png": "[encoded data removed]",
      "text/plain": [
       "<Figure size 432x288 with 1 Axes>"
      ]
     },
     "metadata": {
      "needs_background": "light"
     },
     "output_type": "display_data"
    },
    {
     "name": "stdout",
     "output_type": "stream",
     "text": [
      "Distance_from_Residence_to_Work\n"
     ]
    },
    {
     "data": {
      "image/png": "[encoded data removed]",
      "text/plain": [
       "<Figure size 432x288 with 1 Axes>"
      ]
     },
     "metadata": {
      "needs_background": "light"
     },
     "output_type": "display_data"
    },
    {
     "name": "stdout",
     "output_type": "stream",
     "text": [
      "Service_time\n"
     ]
    },
    {
     "data": {
      "image/png": "[encoded data removed]",
      "text/plain": [
       "<Figure size 432x288 with 1 Axes>"
      ]
     },
     "metadata": {
      "needs_background": "light"
     },
     "output_type": "display_data"
    },
    {
     "name": "stdout",
     "output_type": "stream",
     "text": [
      "Age\n"
     ]
    },
    {
     "data": {
      "image/png": "[encoded data removed]",
      "text/plain": [
       "<Figure size 432x288 with 1 Axes>"
      ]
     },
     "metadata": {
      "needs_background": "light"
     },
     "output_type": "display_data"
    },
    {
     "name": "stdout",
     "output_type": "stream",
     "text": [
      "Work_load_Average/day_\n"
     ]
    },
    {
     "data": {
      "image/png": "[encoded data removed]",
      "text/plain": [
       "<Figure size 432x288 with 1 Axes>"
      ]
     },
     "metadata": {
      "needs_background": "light"
     },
     "output_type": "display_data"
    },
    {
     "name": "stdout",
     "output_type": "stream",
     "text": [
      "Hit_target\n"
     ]
    },
    {
     "data": {
      "image/png": "[encoded data removed]",
      "text/plain": [
       "<Figure size 432x288 with 1 Axes>"
      ]
     },
     "metadata": {
      "needs_background": "light"
     },
     "output_type": "display_data"
    },
    {
     "name": "stdout",
     "output_type": "stream",
     "text": [
      "Height\n"
     ]
    },
    {
     "data": {
      "image/png": "[encoded data removed]",
      "text/plain": [
       "<Figure size 432x288 with 1 Axes>"
      ]
     },
     "metadata": {
      "needs_background": "light"
     },
     "output_type": "display_data"
    },
    {
     "name": "stdout",
     "output_type": "stream",
     "text": [
      "Body_mass_index\n"
     ]
    },
    {
     "data": {
      "image/png": "[encoded data removed]",
      "text/plain": [
       "<Figure size 432x288 with 1 Axes>"
      ]
     },
     "metadata": {
      "needs_background": "light"
     },
     "output_type": "display_data"
    },
    {
     "name": "stdout",
     "output_type": "stream",
     "text": [
      "Absenteeism_time_in_hours\n"
     ]
    },
    {
     "data": {
      "image/png": "[encoded data removed]",
      "text/plain": [
       "<Figure size 432x288 with 1 Axes>"
      ]
     },
     "metadata": {
      "needs_background": "light"
     },
     "output_type": "display_data"
    }
   ],
   "source": [
    "#Checking weather the data is normaly distributed or not\n",
    "\n",
    "for i in cnames :\n",
    "    print(i)\n",
    "    sns.distplot(data_employee[i], bins ='auto', color = 'blue')\n",
    "    plt.title(\"Distribution for \"+i)\n",
    "    plt.ylabel(\"Density\")\n",
    "    plt.show()"
   ]
  },
  {
   "cell_type": "code",
   "execution_count": 66,
   "metadata": {},
   "outputs": [],
   "source": [
    "#Normalization\n",
    "for i in cnames :\n",
    "    if(i == \"Absenteeism_time_in_hours\") :\n",
    "        continue\n",
    "        print(i)\n",
    "        data_employee[i] = (data_employee[i] - min(data_employee[i]))/(max(data_employee[i]) - min(data_employee[i]))\n",
    "        print(data_employee[i])"
   ]
  },
  {
   "cell_type": "code",
   "execution_count": 67,
   "metadata": {},
   "outputs": [
    {
     "data": {
      "text/html": [
       "<div>\n",
       "<style scoped>\n",
       "    .dataframe tbody tr th:only-of-type {\n",
       "        vertical-align: middle;\n",
       "    }\n",
       "\n",
       "    .dataframe tbody tr th {\n",
       "        vertical-align: top;\n",
       "    }\n",
       "\n",
       "    .dataframe thead th {\n",
       "        text-align: right;\n",
       "    }\n",
       "</style>\n",
       "<table border=\"1\" class=\"dataframe\">\n",
       "  <thead>\n",
       "    <tr style=\"text-align: right;\">\n",
       "      <th></th>\n",
       "      <th>Reason_for_absence</th>\n",
       "      <th>Day_of_the_week</th>\n",
       "      <th>Transportation_expense</th>\n",
       "      <th>Distance_from_Residence_to_Work</th>\n",
       "      <th>Service_time</th>\n",
       "      <th>Age</th>\n",
       "      <th>Work_load_Average/day_</th>\n",
       "      <th>Hit_target</th>\n",
       "      <th>Disciplinary_failure</th>\n",
       "      <th>Son</th>\n",
       "      <th>Social_drinker</th>\n",
       "      <th>Height</th>\n",
       "      <th>Body_mass_index</th>\n",
       "      <th>Absenteeism_time_in_hours</th>\n",
       "    </tr>\n",
       "  </thead>\n",
       "  <tbody>\n",
       "    <tr>\n",
       "      <td>count</td>\n",
       "      <td>718.000000</td>\n",
       "      <td>718.000000</td>\n",
       "      <td>718.000000</td>\n",
       "      <td>718.000000</td>\n",
       "      <td>718.000000</td>\n",
       "      <td>718.000000</td>\n",
       "      <td>718.000000</td>\n",
       "      <td>718.000000</td>\n",
       "      <td>718.000000</td>\n",
       "      <td>718.000000</td>\n",
       "      <td>718.000000</td>\n",
       "      <td>718.000000</td>\n",
       "      <td>718.000000</td>\n",
       "      <td>718.000000</td>\n",
       "    </tr>\n",
       "    <tr>\n",
       "      <td>mean</td>\n",
       "      <td>19.409471</td>\n",
       "      <td>3.899721</td>\n",
       "      <td>219.968061</td>\n",
       "      <td>29.548747</td>\n",
       "      <td>12.473538</td>\n",
       "      <td>36.159306</td>\n",
       "      <td>267.271473</td>\n",
       "      <td>94.953013</td>\n",
       "      <td>0.045961</td>\n",
       "      <td>1.001393</td>\n",
       "      <td>0.565460</td>\n",
       "      <td>170.265003</td>\n",
       "      <td>26.706821</td>\n",
       "      <td>1.482867</td>\n",
       "    </tr>\n",
       "    <tr>\n",
       "      <td>std</td>\n",
       "      <td>8.279768</td>\n",
       "      <td>1.419519</td>\n",
       "      <td>65.325153</td>\n",
       "      <td>14.774540</td>\n",
       "      <td>4.149406</td>\n",
       "      <td>6.099771</td>\n",
       "      <td>32.318720</td>\n",
       "      <td>3.078961</td>\n",
       "      <td>0.209547</td>\n",
       "      <td>1.084311</td>\n",
       "      <td>0.496042</td>\n",
       "      <td>1.937294</td>\n",
       "      <td>4.203137</td>\n",
       "      <td>0.658241</td>\n",
       "    </tr>\n",
       "    <tr>\n",
       "      <td>min</td>\n",
       "      <td>0.000000</td>\n",
       "      <td>2.000000</td>\n",
       "      <td>118.000000</td>\n",
       "      <td>5.000000</td>\n",
       "      <td>1.000000</td>\n",
       "      <td>27.000000</td>\n",
       "      <td>205.917000</td>\n",
       "      <td>87.000000</td>\n",
       "      <td>0.000000</td>\n",
       "      <td>0.000000</td>\n",
       "      <td>0.000000</td>\n",
       "      <td>165.000000</td>\n",
       "      <td>19.000000</td>\n",
       "      <td>0.000000</td>\n",
       "    </tr>\n",
       "    <tr>\n",
       "      <td>25%</td>\n",
       "      <td>13.000000</td>\n",
       "      <td>3.000000</td>\n",
       "      <td>179.000000</td>\n",
       "      <td>16.000000</td>\n",
       "      <td>9.000000</td>\n",
       "      <td>31.000000</td>\n",
       "      <td>244.387000</td>\n",
       "      <td>93.000000</td>\n",
       "      <td>0.000000</td>\n",
       "      <td>0.000000</td>\n",
       "      <td>0.000000</td>\n",
       "      <td>169.000000</td>\n",
       "      <td>24.000000</td>\n",
       "      <td>1.098612</td>\n",
       "    </tr>\n",
       "    <tr>\n",
       "      <td>50%</td>\n",
       "      <td>23.000000</td>\n",
       "      <td>4.000000</td>\n",
       "      <td>225.000000</td>\n",
       "      <td>26.000000</td>\n",
       "      <td>13.000000</td>\n",
       "      <td>37.000000</td>\n",
       "      <td>264.249000</td>\n",
       "      <td>95.000000</td>\n",
       "      <td>0.000000</td>\n",
       "      <td>1.000000</td>\n",
       "      <td>1.000000</td>\n",
       "      <td>170.000000</td>\n",
       "      <td>25.000000</td>\n",
       "      <td>1.386294</td>\n",
       "    </tr>\n",
       "    <tr>\n",
       "      <td>75%</td>\n",
       "      <td>26.000000</td>\n",
       "      <td>5.000000</td>\n",
       "      <td>260.000000</td>\n",
       "      <td>50.000000</td>\n",
       "      <td>16.000000</td>\n",
       "      <td>40.000000</td>\n",
       "      <td>284.853000</td>\n",
       "      <td>97.000000</td>\n",
       "      <td>0.000000</td>\n",
       "      <td>2.000000</td>\n",
       "      <td>1.000000</td>\n",
       "      <td>172.000000</td>\n",
       "      <td>31.000000</td>\n",
       "      <td>2.197225</td>\n",
       "    </tr>\n",
       "    <tr>\n",
       "      <td>max</td>\n",
       "      <td>28.000000</td>\n",
       "      <td>6.000000</td>\n",
       "      <td>378.000000</td>\n",
       "      <td>52.000000</td>\n",
       "      <td>24.000000</td>\n",
       "      <td>53.000000</td>\n",
       "      <td>343.253000</td>\n",
       "      <td>100.000000</td>\n",
       "      <td>1.000000</td>\n",
       "      <td>4.000000</td>\n",
       "      <td>1.000000</td>\n",
       "      <td>175.000009</td>\n",
       "      <td>38.000000</td>\n",
       "      <td>2.833213</td>\n",
       "    </tr>\n",
       "  </tbody>\n",
       "</table>\n",
       "</div>"
      ],
      "text/plain": [
       "       Reason_for_absence  Day_of_the_week  Transportation_expense  \\\n",
       "count          718.000000       718.000000              718.000000   \n",
       "mean            19.409471         3.899721              219.968061   \n",
       "std              8.279768         1.419519               65.325153   \n",
       "min              0.000000         2.000000              118.000000   \n",
       "25%             13.000000         3.000000              179.000000   \n",
       "50%             23.000000         4.000000              225.000000   \n",
       "75%             26.000000         5.000000              260.000000   \n",
       "max             28.000000         6.000000              378.000000   \n",
       "\n",
       "       Distance_from_Residence_to_Work  Service_time         Age  \\\n",
       "count                       718.000000    718.000000  718.000000   \n",
       "mean                         29.548747     12.473538   36.159306   \n",
       "std                          14.774540      4.149406    6.099771   \n",
       "min                           5.000000      1.000000   27.000000   \n",
       "25%                          16.000000      9.000000   31.000000   \n",
       "50%                          26.000000     13.000000   37.000000   \n",
       "75%                          50.000000     16.000000   40.000000   \n",
       "max                          52.000000     24.000000   53.000000   \n",
       "\n",
       "       Work_load_Average/day_  Hit_target  Disciplinary_failure         Son  \\\n",
       "count              718.000000  718.000000            718.000000  718.000000   \n",
       "mean               267.271473   94.953013              0.045961    1.001393   \n",
       "std                 32.318720    3.078961              0.209547    1.084311   \n",
       "min                205.917000   87.000000              0.000000    0.000000   \n",
       "25%                244.387000   93.000000              0.000000    0.000000   \n",
       "50%                264.249000   95.000000              0.000000    1.000000   \n",
       "75%                284.853000   97.000000              0.000000    2.000000   \n",
       "max                343.253000  100.000000              1.000000    4.000000   \n",
       "\n",
       "       Social_drinker      Height  Body_mass_index  Absenteeism_time_in_hours  \n",
       "count      718.000000  718.000000       718.000000                 718.000000  \n",
       "mean         0.565460  170.265003        26.706821                   1.482867  \n",
       "std          0.496042    1.937294         4.203137                   0.658241  \n",
       "min          0.000000  165.000000        19.000000                   0.000000  \n",
       "25%          0.000000  169.000000        24.000000                   1.098612  \n",
       "50%          1.000000  170.000000        25.000000                   1.386294  \n",
       "75%          1.000000  172.000000        31.000000                   2.197225  \n",
       "max          1.000000  175.000009        38.000000                   2.833213  "
      ]
     },
     "execution_count": 67,
     "metadata": {},
     "output_type": "execute_result"
    }
   ],
   "source": [
    "data_employee.describe()"
   ]
  },
  {
   "cell_type": "code",
   "execution_count": 68,
   "metadata": {},
   "outputs": [],
   "source": [
    "#write to hard disk\n",
    "data_employee.to_csv(\"Employee Absenteeism pre processed.csv\", index = False)"
   ]
  },
  {
   "cell_type": "markdown",
   "metadata": {},
   "source": [
    ">Model Development\n",
    ">>Divide data into train and test"
   ]
  },
  {
   "cell_type": "code",
   "execution_count": 63,
   "metadata": {},
   "outputs": [],
   "source": [
    "#import libraries\n",
    "from sklearn import tree\n",
    "from sklearn.metrics import accuracy_score\n",
    "from sklearn.model_selection import train_test_split\n",
    "from sklearn.metrics import r2_score"
   ]
  },
  {
   "cell_type": "code",
   "execution_count": 65,
   "metadata": {},
   "outputs": [],
   "source": [
    "temp = data_employee\n",
    "data_employee = temp"
   ]
  },
  {
   "cell_type": "code",
   "execution_count": 66,
   "metadata": {},
   "outputs": [],
   "source": [
    "#create categorical variables to dummy variables\n",
    "data_employee = pd.get_dummies(data_employee,columns = cat_names)"
   ]
  },
  {
   "cell_type": "code",
   "execution_count": 67,
   "metadata": {},
   "outputs": [
    {
     "data": {
      "text/plain": [
       "(718, 51)"
      ]
     },
     "execution_count": 67,
     "metadata": {},
     "output_type": "execute_result"
    }
   ],
   "source": [
    "data_employee.shape"
   ]
  },
  {
   "cell_type": "code",
   "execution_count": 68,
   "metadata": {},
   "outputs": [],
   "source": [
    "#divide data for predictor and target\n",
    "x = data_employee.drop(['Absenteeism_time_in_hours'], axis = 1)\n",
    "y = data_employee['Absenteeism_time_in_hours']"
   ]
  },
  {
   "cell_type": "code",
   "execution_count": 75,
   "metadata": {},
   "outputs": [],
   "source": [
    "#Calculate RMSE\n",
    "from sklearn.metrics import mean_squared_error\n",
    "def RMSE(y_true, y_pred): \n",
    "    rmse = np.sqrt(mean_squared_error(y_true, y_pred))\n",
    "    return rmse"
   ]
  },
  {
   "cell_type": "code",
   "execution_count": 70,
   "metadata": {},
   "outputs": [],
   "source": [
    "#divide data into train and test\n",
    "xtrain,xtest,ytrain,ytest = train_test_split(x,y,test_size = 0.20, random_state = 220192)"
   ]
  },
  {
   "cell_type": "markdown",
   "metadata": {},
   "source": [
    ">>Decision Tree"
   ]
  },
  {
   "cell_type": "code",
   "execution_count": 71,
   "metadata": {},
   "outputs": [],
   "source": [
    "#import library\n",
    "from sklearn.tree import DecisionTreeRegressor"
   ]
  },
  {
   "cell_type": "code",
   "execution_count": 72,
   "metadata": {},
   "outputs": [],
   "source": [
    "#Decision tree for regression\n",
    "DT_model = DecisionTreeRegressor(max_depth=2).fit(xtrain, ytrain)"
   ]
  },
  {
   "cell_type": "code",
   "execution_count": 73,
   "metadata": {},
   "outputs": [],
   "source": [
    "#prediction for train data\n",
    "DT_train = DT_model.predict(xtrain)\n",
    "\n",
    "#prediction for test data\n",
    "DT_test = DT_model.predict(xtest)"
   ]
  },
  {
   "cell_type": "code",
   "execution_count": 76,
   "metadata": {},
   "outputs": [],
   "source": [
    "#MAPE\n",
    "train_RMSE_DT = RMSE(ytrain,DT_train)\n",
    "\n",
    "#MAPE\n",
    "test_RMSE_DT = RMSE(ytest,DT_test)\n",
    "\n",
    "#rsquare\n",
    "rsquare_train_DT = r2_score(ytrain,DT_train)\n",
    "\n",
    "#rsquare\n",
    "rsquare_test_DT = r2_score(ytest,DT_test)"
   ]
  },
  {
   "cell_type": "code",
   "execution_count": 78,
   "metadata": {},
   "outputs": [
    {
     "name": "stdout",
     "output_type": "stream",
     "text": [
      "MAPE for train : 0.5385432340187029\n",
      "MAPE for test : 0.5257063918717542\n",
      "rsquare for train : 0.3194792760171251\n",
      "rsquare for test : 0.3970205190531876\n"
     ]
    }
   ],
   "source": [
    "print(\"MAPE for train : \" + str(train_RMSE_DT))\n",
    "print(\"MAPE for test : \" + str(test_RMSE_DT))\n",
    "print(\"rsquare for train : \" + str(rsquare_train_DT))\n",
    "print(\"rsquare for test : \" + str(rsquare_test_DT))"
   ]
  },
  {
   "cell_type": "code",
   "execution_count": 79,
   "metadata": {},
   "outputs": [],
   "source": [
    "data1 = {'Model Name' : ['Decision Tree'], 'RMSE train' : [train_RMSE_DT], 'RMSE Test' : [test_RMSE_DT], \n",
    "         'rsquare train': [rsquare_train_DT], 'rsquare test': [rsquare_test_DT]}\n",
    "result1 = pd.DataFrame(data1)"
   ]
  },
  {
   "cell_type": "markdown",
   "metadata": {},
   "source": [
    ">>Linear Regression"
   ]
  },
  {
   "cell_type": "code",
   "execution_count": 80,
   "metadata": {},
   "outputs": [
    {
     "data": {
      "text/html": [
       "<table class=\"simpletable\">\n",
       "<caption>OLS Regression Results</caption>\n",
       "<tr>\n",
       "  <th>Dep. Variable:</th>    <td>Absenteeism_time_in_hours</td> <th>  R-squared:         </th> <td>   0.588</td>\n",
       "</tr>\n",
       "<tr>\n",
       "  <th>Model:</th>                       <td>OLS</td>            <th>  Adj. R-squared:    </th> <td>   0.553</td>\n",
       "</tr>\n",
       "<tr>\n",
       "  <th>Method:</th>                 <td>Least Squares</td>       <th>  F-statistic:       </th> <td>   16.73</td>\n",
       "</tr>\n",
       "<tr>\n",
       "  <th>Date:</th>                 <td>Thu, 12 Sep 2019</td>      <th>  Prob (F-statistic):</th> <td>3.52e-75</td>\n",
       "</tr>\n",
       "<tr>\n",
       "  <th>Time:</th>                     <td>22:49:19</td>          <th>  Log-Likelihood:    </th> <td> -315.39</td>\n",
       "</tr>\n",
       "<tr>\n",
       "  <th>No. Observations:</th>          <td>   574</td>           <th>  AIC:               </th> <td>   722.8</td>\n",
       "</tr>\n",
       "<tr>\n",
       "  <th>Df Residuals:</th>              <td>   528</td>           <th>  BIC:               </th> <td>   923.0</td>\n",
       "</tr>\n",
       "<tr>\n",
       "  <th>Df Model:</th>                  <td>    45</td>           <th>                     </th>     <td> </td>   \n",
       "</tr>\n",
       "<tr>\n",
       "  <th>Covariance Type:</th>          <td>nonrobust</td>         <th>                     </th>     <td> </td>   \n",
       "</tr>\n",
       "</table>\n",
       "<table class=\"simpletable\">\n",
       "<tr>\n",
       "                 <td></td>                    <th>coef</th>     <th>std err</th>      <th>t</th>      <th>P>|t|</th>  <th>[0.025</th>    <th>0.975]</th>  \n",
       "</tr>\n",
       "<tr>\n",
       "  <th>Transportation_expense</th>          <td>    0.0013</td> <td>    0.000</td> <td>    2.822</td> <td> 0.005</td> <td>    0.000</td> <td>    0.002</td>\n",
       "</tr>\n",
       "<tr>\n",
       "  <th>Distance_from_Residence_to_Work</th> <td>   -0.0032</td> <td>    0.002</td> <td>   -1.526</td> <td> 0.128</td> <td>   -0.007</td> <td>    0.001</td>\n",
       "</tr>\n",
       "<tr>\n",
       "  <th>Service_time</th>                    <td>    0.0119</td> <td>    0.008</td> <td>    1.466</td> <td> 0.143</td> <td>   -0.004</td> <td>    0.028</td>\n",
       "</tr>\n",
       "<tr>\n",
       "  <th>Age</th>                             <td>   -0.0103</td> <td>    0.005</td> <td>   -2.028</td> <td> 0.043</td> <td>   -0.020</td> <td>   -0.000</td>\n",
       "</tr>\n",
       "<tr>\n",
       "  <th>Work_load_Average/day_</th>          <td>   -0.0005</td> <td>    0.001</td> <td>   -0.798</td> <td> 0.425</td> <td>   -0.002</td> <td>    0.001</td>\n",
       "</tr>\n",
       "<tr>\n",
       "  <th>Hit_target</th>                      <td>   -0.0047</td> <td>    0.006</td> <td>   -0.748</td> <td> 0.455</td> <td>   -0.017</td> <td>    0.008</td>\n",
       "</tr>\n",
       "<tr>\n",
       "  <th>Height</th>                          <td>   -0.0164</td> <td>    0.012</td> <td>   -1.418</td> <td> 0.157</td> <td>   -0.039</td> <td>    0.006</td>\n",
       "</tr>\n",
       "<tr>\n",
       "  <th>Body_mass_index</th>                 <td>    0.0032</td> <td>    0.006</td> <td>    0.520</td> <td> 0.603</td> <td>   -0.009</td> <td>    0.015</td>\n",
       "</tr>\n",
       "<tr>\n",
       "  <th>Reason_for_absence_0.0</th>          <td>   -1.3225</td> <td>    0.318</td> <td>   -4.157</td> <td> 0.000</td> <td>   -1.947</td> <td>   -0.697</td>\n",
       "</tr>\n",
       "<tr>\n",
       "  <th>Reason_for_absence_1.0</th>          <td>    0.4841</td> <td>    0.138</td> <td>    3.513</td> <td> 0.000</td> <td>    0.213</td> <td>    0.755</td>\n",
       "</tr>\n",
       "<tr>\n",
       "  <th>Reason_for_absence_2.0</th>          <td>   -0.1253</td> <td>    0.436</td> <td>   -0.287</td> <td> 0.774</td> <td>   -0.982</td> <td>    0.731</td>\n",
       "</tr>\n",
       "<tr>\n",
       "  <th>Reason_for_absence_3.0</th>          <td>    0.6611</td> <td>    0.435</td> <td>    1.521</td> <td> 0.129</td> <td>   -0.193</td> <td>    1.515</td>\n",
       "</tr>\n",
       "<tr>\n",
       "  <th>Reason_for_absence_4.0</th>          <td>   -0.1816</td> <td>    0.315</td> <td>   -0.577</td> <td> 0.564</td> <td>   -0.799</td> <td>    0.436</td>\n",
       "</tr>\n",
       "<tr>\n",
       "  <th>Reason_for_absence_5.0</th>          <td>    0.4241</td> <td>    0.258</td> <td>    1.646</td> <td> 0.100</td> <td>   -0.082</td> <td>    0.930</td>\n",
       "</tr>\n",
       "<tr>\n",
       "  <th>Reason_for_absence_6.0</th>          <td>    0.3761</td> <td>    0.204</td> <td>    1.847</td> <td> 0.065</td> <td>   -0.024</td> <td>    0.776</td>\n",
       "</tr>\n",
       "<tr>\n",
       "  <th>Reason_for_absence_7.0</th>          <td>    0.0754</td> <td>    0.133</td> <td>    0.565</td> <td> 0.572</td> <td>   -0.187</td> <td>    0.338</td>\n",
       "</tr>\n",
       "<tr>\n",
       "  <th>Reason_for_absence_8.0</th>          <td>    0.2255</td> <td>    0.189</td> <td>    1.194</td> <td> 0.233</td> <td>   -0.145</td> <td>    0.596</td>\n",
       "</tr>\n",
       "<tr>\n",
       "  <th>Reason_for_absence_9.0</th>          <td>    0.9524</td> <td>    0.254</td> <td>    3.755</td> <td> 0.000</td> <td>    0.454</td> <td>    1.451</td>\n",
       "</tr>\n",
       "<tr>\n",
       "  <th>Reason_for_absence_10.0</th>         <td>    0.4334</td> <td>    0.120</td> <td>    3.599</td> <td> 0.000</td> <td>    0.197</td> <td>    0.670</td>\n",
       "</tr>\n",
       "<tr>\n",
       "  <th>Reason_for_absence_11.0</th>         <td>    0.1300</td> <td>    0.121</td> <td>    1.072</td> <td> 0.284</td> <td>   -0.108</td> <td>    0.368</td>\n",
       "</tr>\n",
       "<tr>\n",
       "  <th>Reason_for_absence_12.0</th>         <td>   -0.2079</td> <td>    0.173</td> <td>   -1.204</td> <td> 0.229</td> <td>   -0.547</td> <td>    0.131</td>\n",
       "</tr>\n",
       "<tr>\n",
       "  <th>Reason_for_absence_13.0</th>         <td>    0.1886</td> <td>    0.091</td> <td>    2.062</td> <td> 0.040</td> <td>    0.009</td> <td>    0.368</td>\n",
       "</tr>\n",
       "<tr>\n",
       "  <th>Reason_for_absence_14.0</th>         <td>    0.0654</td> <td>    0.128</td> <td>    0.510</td> <td> 0.610</td> <td>   -0.186</td> <td>    0.317</td>\n",
       "</tr>\n",
       "<tr>\n",
       "  <th>Reason_for_absence_15.0</th>         <td>    0.4183</td> <td>    0.314</td> <td>    1.334</td> <td> 0.183</td> <td>   -0.198</td> <td>    1.034</td>\n",
       "</tr>\n",
       "<tr>\n",
       "  <th>Reason_for_absence_16.0</th>         <td>   -0.5595</td> <td>    0.255</td> <td>   -2.195</td> <td> 0.029</td> <td>   -1.060</td> <td>   -0.059</td>\n",
       "</tr>\n",
       "<tr>\n",
       "  <th>Reason_for_absence_17.0</th>         <td>    0.6518</td> <td>    0.435</td> <td>    1.498</td> <td> 0.135</td> <td>   -0.203</td> <td>    1.506</td>\n",
       "</tr>\n",
       "<tr>\n",
       "  <th>Reason_for_absence_18.0</th>         <td>    0.3753</td> <td>    0.121</td> <td>    3.098</td> <td> 0.002</td> <td>    0.137</td> <td>    0.613</td>\n",
       "</tr>\n",
       "<tr>\n",
       "  <th>Reason_for_absence_19.0</th>         <td>    0.3022</td> <td>    0.100</td> <td>    3.015</td> <td> 0.003</td> <td>    0.105</td> <td>    0.499</td>\n",
       "</tr>\n",
       "<tr>\n",
       "  <th>Reason_for_absence_21.0</th>         <td>    0.1693</td> <td>    0.186</td> <td>    0.912</td> <td> 0.362</td> <td>   -0.195</td> <td>    0.534</td>\n",
       "</tr>\n",
       "<tr>\n",
       "  <th>Reason_for_absence_22.0</th>         <td>    0.4731</td> <td>    0.112</td> <td>    4.211</td> <td> 0.000</td> <td>    0.252</td> <td>    0.694</td>\n",
       "</tr>\n",
       "<tr>\n",
       "  <th>Reason_for_absence_23.0</th>         <td>   -0.3640</td> <td>    0.073</td> <td>   -5.010</td> <td> 0.000</td> <td>   -0.507</td> <td>   -0.221</td>\n",
       "</tr>\n",
       "<tr>\n",
       "  <th>Reason_for_absence_24.0</th>         <td>    0.4058</td> <td>    0.313</td> <td>    1.298</td> <td> 0.195</td> <td>   -0.208</td> <td>    1.020</td>\n",
       "</tr>\n",
       "<tr>\n",
       "  <th>Reason_for_absence_25.0</th>         <td>   -0.1958</td> <td>    0.114</td> <td>   -1.718</td> <td> 0.086</td> <td>   -0.420</td> <td>    0.028</td>\n",
       "</tr>\n",
       "<tr>\n",
       "  <th>Reason_for_absence_26.0</th>         <td>    0.3684</td> <td>    0.106</td> <td>    3.484</td> <td> 0.001</td> <td>    0.161</td> <td>    0.576</td>\n",
       "</tr>\n",
       "<tr>\n",
       "  <th>Reason_for_absence_27.0</th>         <td>   -0.4355</td> <td>    0.093</td> <td>   -4.671</td> <td> 0.000</td> <td>   -0.619</td> <td>   -0.252</td>\n",
       "</tr>\n",
       "<tr>\n",
       "  <th>Reason_for_absence_28.0</th>         <td>   -0.4011</td> <td>    0.079</td> <td>   -5.097</td> <td> 0.000</td> <td>   -0.556</td> <td>   -0.247</td>\n",
       "</tr>\n",
       "<tr>\n",
       "  <th>Day_of_the_week_2.0</th>             <td>    0.6793</td> <td>    0.295</td> <td>    2.301</td> <td> 0.022</td> <td>    0.099</td> <td>    1.259</td>\n",
       "</tr>\n",
       "<tr>\n",
       "  <th>Day_of_the_week_3.0</th>             <td>    0.6832</td> <td>    0.296</td> <td>    2.311</td> <td> 0.021</td> <td>    0.103</td> <td>    1.264</td>\n",
       "</tr>\n",
       "<tr>\n",
       "  <th>Day_of_the_week_4.0</th>             <td>    0.6646</td> <td>    0.297</td> <td>    2.236</td> <td> 0.026</td> <td>    0.081</td> <td>    1.248</td>\n",
       "</tr>\n",
       "<tr>\n",
       "  <th>Day_of_the_week_5.0</th>             <td>    0.6736</td> <td>    0.300</td> <td>    2.246</td> <td> 0.025</td> <td>    0.084</td> <td>    1.263</td>\n",
       "</tr>\n",
       "<tr>\n",
       "  <th>Day_of_the_week_6.0</th>             <td>    0.6866</td> <td>    0.297</td> <td>    2.310</td> <td> 0.021</td> <td>    0.103</td> <td>    1.270</td>\n",
       "</tr>\n",
       "<tr>\n",
       "  <th>Disciplinary_failure_0.0</th>        <td>    1.8649</td> <td>    0.767</td> <td>    2.431</td> <td> 0.015</td> <td>    0.358</td> <td>    3.372</td>\n",
       "</tr>\n",
       "<tr>\n",
       "  <th>Disciplinary_failure_1.0</th>        <td>    1.5222</td> <td>    0.742</td> <td>    2.052</td> <td> 0.041</td> <td>    0.065</td> <td>    2.980</td>\n",
       "</tr>\n",
       "<tr>\n",
       "  <th>Son_0.0</th>                         <td>    0.7224</td> <td>    0.318</td> <td>    2.270</td> <td> 0.024</td> <td>    0.097</td> <td>    1.348</td>\n",
       "</tr>\n",
       "<tr>\n",
       "  <th>Son_1.0</th>                         <td>    0.6048</td> <td>    0.308</td> <td>    1.965</td> <td> 0.050</td> <td>    0.000</td> <td>    1.209</td>\n",
       "</tr>\n",
       "<tr>\n",
       "  <th>Son_2.0</th>                         <td>    0.7134</td> <td>    0.309</td> <td>    2.309</td> <td> 0.021</td> <td>    0.107</td> <td>    1.320</td>\n",
       "</tr>\n",
       "<tr>\n",
       "  <th>Son_3.0</th>                         <td>    0.4379</td> <td>    0.298</td> <td>    1.471</td> <td> 0.142</td> <td>   -0.147</td> <td>    1.023</td>\n",
       "</tr>\n",
       "<tr>\n",
       "  <th>Son_4.0</th>                         <td>    0.9087</td> <td>    0.301</td> <td>    3.014</td> <td> 0.003</td> <td>    0.316</td> <td>    1.501</td>\n",
       "</tr>\n",
       "<tr>\n",
       "  <th>Social_drinker_0.0</th>              <td>    1.6414</td> <td>    0.726</td> <td>    2.261</td> <td> 0.024</td> <td>    0.215</td> <td>    3.067</td>\n",
       "</tr>\n",
       "<tr>\n",
       "  <th>Social_drinker_1.0</th>              <td>    1.7457</td> <td>    0.747</td> <td>    2.336</td> <td> 0.020</td> <td>    0.278</td> <td>    3.214</td>\n",
       "</tr>\n",
       "</table>\n",
       "<table class=\"simpletable\">\n",
       "<tr>\n",
       "  <th>Omnibus:</th>       <td>20.430</td> <th>  Durbin-Watson:     </th> <td>   1.985</td>\n",
       "</tr>\n",
       "<tr>\n",
       "  <th>Prob(Omnibus):</th> <td> 0.000</td> <th>  Jarque-Bera (JB):  </th> <td>  45.491</td>\n",
       "</tr>\n",
       "<tr>\n",
       "  <th>Skew:</th>          <td> 0.119</td> <th>  Prob(JB):          </th> <td>1.32e-10</td>\n",
       "</tr>\n",
       "<tr>\n",
       "  <th>Kurtosis:</th>      <td> 4.359</td> <th>  Cond. No.          </th> <td>1.26e+16</td>\n",
       "</tr>\n",
       "</table><br/><br/>Warnings:<br/>[1] Standard Errors assume that the covariance matrix of the errors is correctly specified.<br/>[2] The smallest eigenvalue is 5.9e-25. This might indicate that there are<br/>strong multicollinearity problems or that the design matrix is singular."
      ],
      "text/plain": [
       "<class 'statsmodels.iolib.summary.Summary'>\n",
       "\"\"\"\n",
       "                                OLS Regression Results                               \n",
       "=====================================================================================\n",
       "Dep. Variable:     Absenteeism_time_in_hours   R-squared:                       0.588\n",
       "Model:                                   OLS   Adj. R-squared:                  0.553\n",
       "Method:                        Least Squares   F-statistic:                     16.73\n",
       "Date:                       Thu, 12 Sep 2019   Prob (F-statistic):           3.52e-75\n",
       "Time:                               22:49:19   Log-Likelihood:                -315.39\n",
       "No. Observations:                        574   AIC:                             722.8\n",
       "Df Residuals:                            528   BIC:                             923.0\n",
       "Df Model:                                 45                                         \n",
       "Covariance Type:                   nonrobust                                         \n",
       "===================================================================================================\n",
       "                                      coef    std err          t      P>|t|      [0.025      0.975]\n",
       "---------------------------------------------------------------------------------------------------\n",
       "Transportation_expense              0.0013      0.000      2.822      0.005       0.000       0.002\n",
       "Distance_from_Residence_to_Work    -0.0032      0.002     -1.526      0.128      -0.007       0.001\n",
       "Service_time                        0.0119      0.008      1.466      0.143      -0.004       0.028\n",
       "Age                                -0.0103      0.005     -2.028      0.043      -0.020      -0.000\n",
       "Work_load_Average/day_             -0.0005      0.001     -0.798      0.425      -0.002       0.001\n",
       "Hit_target                         -0.0047      0.006     -0.748      0.455      -0.017       0.008\n",
       "Height                             -0.0164      0.012     -1.418      0.157      -0.039       0.006\n",
       "Body_mass_index                     0.0032      0.006      0.520      0.603      -0.009       0.015\n",
       "Reason_for_absence_0.0             -1.3225      0.318     -4.157      0.000      -1.947      -0.697\n",
       "Reason_for_absence_1.0              0.4841      0.138      3.513      0.000       0.213       0.755\n",
       "Reason_for_absence_2.0             -0.1253      0.436     -0.287      0.774      -0.982       0.731\n",
       "Reason_for_absence_3.0              0.6611      0.435      1.521      0.129      -0.193       1.515\n",
       "Reason_for_absence_4.0             -0.1816      0.315     -0.577      0.564      -0.799       0.436\n",
       "Reason_for_absence_5.0              0.4241      0.258      1.646      0.100      -0.082       0.930\n",
       "Reason_for_absence_6.0              0.3761      0.204      1.847      0.065      -0.024       0.776\n",
       "Reason_for_absence_7.0              0.0754      0.133      0.565      0.572      -0.187       0.338\n",
       "Reason_for_absence_8.0              0.2255      0.189      1.194      0.233      -0.145       0.596\n",
       "Reason_for_absence_9.0              0.9524      0.254      3.755      0.000       0.454       1.451\n",
       "Reason_for_absence_10.0             0.4334      0.120      3.599      0.000       0.197       0.670\n",
       "Reason_for_absence_11.0             0.1300      0.121      1.072      0.284      -0.108       0.368\n",
       "Reason_for_absence_12.0            -0.2079      0.173     -1.204      0.229      -0.547       0.131\n",
       "Reason_for_absence_13.0             0.1886      0.091      2.062      0.040       0.009       0.368\n",
       "Reason_for_absence_14.0             0.0654      0.128      0.510      0.610      -0.186       0.317\n",
       "Reason_for_absence_15.0             0.4183      0.314      1.334      0.183      -0.198       1.034\n",
       "Reason_for_absence_16.0            -0.5595      0.255     -2.195      0.029      -1.060      -0.059\n",
       "Reason_for_absence_17.0             0.6518      0.435      1.498      0.135      -0.203       1.506\n",
       "Reason_for_absence_18.0             0.3753      0.121      3.098      0.002       0.137       0.613\n",
       "Reason_for_absence_19.0             0.3022      0.100      3.015      0.003       0.105       0.499\n",
       "Reason_for_absence_21.0             0.1693      0.186      0.912      0.362      -0.195       0.534\n",
       "Reason_for_absence_22.0             0.4731      0.112      4.211      0.000       0.252       0.694\n",
       "Reason_for_absence_23.0            -0.3640      0.073     -5.010      0.000      -0.507      -0.221\n",
       "Reason_for_absence_24.0             0.4058      0.313      1.298      0.195      -0.208       1.020\n",
       "Reason_for_absence_25.0            -0.1958      0.114     -1.718      0.086      -0.420       0.028\n",
       "Reason_for_absence_26.0             0.3684      0.106      3.484      0.001       0.161       0.576\n",
       "Reason_for_absence_27.0            -0.4355      0.093     -4.671      0.000      -0.619      -0.252\n",
       "Reason_for_absence_28.0            -0.4011      0.079     -5.097      0.000      -0.556      -0.247\n",
       "Day_of_the_week_2.0                 0.6793      0.295      2.301      0.022       0.099       1.259\n",
       "Day_of_the_week_3.0                 0.6832      0.296      2.311      0.021       0.103       1.264\n",
       "Day_of_the_week_4.0                 0.6646      0.297      2.236      0.026       0.081       1.248\n",
       "Day_of_the_week_5.0                 0.6736      0.300      2.246      0.025       0.084       1.263\n",
       "Day_of_the_week_6.0                 0.6866      0.297      2.310      0.021       0.103       1.270\n",
       "Disciplinary_failure_0.0            1.8649      0.767      2.431      0.015       0.358       3.372\n",
       "Disciplinary_failure_1.0            1.5222      0.742      2.052      0.041       0.065       2.980\n",
       "Son_0.0                             0.7224      0.318      2.270      0.024       0.097       1.348\n",
       "Son_1.0                             0.6048      0.308      1.965      0.050       0.000       1.209\n",
       "Son_2.0                             0.7134      0.309      2.309      0.021       0.107       1.320\n",
       "Son_3.0                             0.4379      0.298      1.471      0.142      -0.147       1.023\n",
       "Son_4.0                             0.9087      0.301      3.014      0.003       0.316       1.501\n",
       "Social_drinker_0.0                  1.6414      0.726      2.261      0.024       0.215       3.067\n",
       "Social_drinker_1.0                  1.7457      0.747      2.336      0.020       0.278       3.214\n",
       "==============================================================================\n",
       "Omnibus:                       20.430   Durbin-Watson:                   1.985\n",
       "Prob(Omnibus):                  0.000   Jarque-Bera (JB):               45.491\n",
       "Skew:                           0.119   Prob(JB):                     1.32e-10\n",
       "Kurtosis:                       4.359   Cond. No.                     1.26e+16\n",
       "==============================================================================\n",
       "\n",
       "Warnings:\n",
       "[1] Standard Errors assume that the covariance matrix of the errors is correctly specified.\n",
       "[2] The smallest eigenvalue is 5.9e-25. This might indicate that there are\n",
       "strong multicollinearity problems or that the design matrix is singular.\n",
       "\"\"\""
      ]
     },
     "execution_count": 80,
     "metadata": {},
     "output_type": "execute_result"
    }
   ],
   "source": [
    "LR_model = sm.OLS(ytrain,xtrain).fit()\n",
    "LR_model.summary()"
   ]
  },
  {
   "cell_type": "code",
   "execution_count": 81,
   "metadata": {},
   "outputs": [],
   "source": [
    "# make the predictions by the model on train data\n",
    "LR_train = LR_model.predict(xtrain) \n",
    "\n",
    "# make the predictions by the model on test data\n",
    "LR_test = LR_model.predict(xtest) "
   ]
  },
  {
   "cell_type": "code",
   "execution_count": 82,
   "metadata": {},
   "outputs": [],
   "source": [
    "#MAPE\n",
    "train_RMSE_LR = RMSE(ytrain,LR_train)\n",
    "\n",
    "#MAPE\n",
    "test_RMSE_LR = RMSE(ytest,LR_test)\n",
    "\n",
    "#rsquare\n",
    "rsquare_train_LR = r2_score(ytrain,LR_train)\n",
    "\n",
    "#rsquare\n",
    "rsquare_test_LR = r2_score(ytest,LR_test)"
   ]
  },
  {
   "cell_type": "code",
   "execution_count": 83,
   "metadata": {},
   "outputs": [
    {
     "name": "stdout",
     "output_type": "stream",
     "text": [
      "RMSE for train : 0.41917276686224286\n",
      "RMSE for test : 0.4202682086837792\n",
      "rsquare for train : 0.587725640184068\n",
      "rsquare for test : 0.6146378143800776\n"
     ]
    }
   ],
   "source": [
    "print(\"RMSE for train : \" + str(train_RMSE_LR))\n",
    "print(\"RMSE for test : \" + str(test_RMSE_LR))\n",
    "print(\"rsquare for train : \" + str(rsquare_train_LR))\n",
    "print(\"rsquare for test : \" + str(rsquare_test_LR))"
   ]
  },
  {
   "cell_type": "code",
   "execution_count": 84,
   "metadata": {},
   "outputs": [],
   "source": [
    "data2 = {'Model Name' : ['Linear Regression'], 'RMSE train' : [train_RMSE_LR], 'RMSE Test' : [test_RMSE_LR], \n",
    "         'rsquare train': [rsquare_train_LR], 'rsquare test': [rsquare_test_LR]}\n",
    "result2 = pd.DataFrame(data2)"
   ]
  },
  {
   "cell_type": "code",
   "execution_count": 85,
   "metadata": {},
   "outputs": [],
   "source": [
    "result = result1.append(result2)"
   ]
  },
  {
   "cell_type": "markdown",
   "metadata": {},
   "source": [
    ">>Random Forest"
   ]
  },
  {
   "cell_type": "code",
   "execution_count": 86,
   "metadata": {},
   "outputs": [],
   "source": [
    "#import library for Random Forest\n",
    "from sklearn.ensemble import RandomForestRegressor"
   ]
  },
  {
   "cell_type": "code",
   "execution_count": 87,
   "metadata": {},
   "outputs": [],
   "source": [
    "RF_model = RandomForestRegressor(n_estimators = 100).fit(xtrain, ytrain)"
   ]
  },
  {
   "cell_type": "code",
   "execution_count": 88,
   "metadata": {},
   "outputs": [],
   "source": [
    "# make the predictions by the model on train data\n",
    "RF_train = RF_model.predict(xtrain) \n",
    "\n",
    "# make the predictions by the model on test data\n",
    "RF_test = RF_model.predict(xtest) "
   ]
  },
  {
   "cell_type": "code",
   "execution_count": 90,
   "metadata": {},
   "outputs": [],
   "source": [
    "#RMSE\n",
    "train_RMSE_FR = RMSE(ytrain,RF_train)\n",
    "\n",
    "#RMSE\n",
    "test_RMSE_FR = RMSE(ytest,RF_test)\n",
    "\n",
    "#rsquare\n",
    "rsquare_train_FR = r2_score(ytrain,RF_train)\n",
    "\n",
    "#rsquare\n",
    "rsquare_test_FR = r2_score(ytest,RF_test)"
   ]
  },
  {
   "cell_type": "code",
   "execution_count": 92,
   "metadata": {},
   "outputs": [
    {
     "name": "stdout",
     "output_type": "stream",
     "text": [
      "RMSE for train : 0.18056789296935932\n",
      "RMSE for test : 0.3963325623434517\n",
      "rsquare for train : 0.9234965064068069\n",
      "rsquare for test : 0.6572830937300116\n"
     ]
    }
   ],
   "source": [
    "print(\"RMSE for train : \" + str(train_RMSE_FR))\n",
    "print(\"RMSE for test : \" + str(test_RMSE_FR))\n",
    "print(\"rsquare for train : \" + str(rsquare_train_FR))\n",
    "print(\"rsquare for test : \" + str(rsquare_test_FR))"
   ]
  },
  {
   "cell_type": "code",
   "execution_count": 93,
   "metadata": {},
   "outputs": [],
   "source": [
    "data3 = {'Model Name' : ['Random Forest'], 'RMSE train' : [train_RMSE_FR], 'RMSE Test' : [test_RMSE_FR], \n",
    "         'rsquare train': [rsquare_train_FR], 'rsquare test': [rsquare_test_FR]}\n",
    "result3 = pd.DataFrame(data3)"
   ]
  },
  {
   "cell_type": "code",
   "execution_count": 94,
   "metadata": {},
   "outputs": [],
   "source": [
    "result = result.append(result3)"
   ]
  },
  {
   "cell_type": "code",
   "execution_count": 95,
   "metadata": {},
   "outputs": [],
   "source": [
    "result = result.reset_index(drop = True)"
   ]
  },
  {
   "cell_type": "code",
   "execution_count": 96,
   "metadata": {},
   "outputs": [
    {
     "data": {
      "text/html": [
       "<div>\n",
       "<style scoped>\n",
       "    .dataframe tbody tr th:only-of-type {\n",
       "        vertical-align: middle;\n",
       "    }\n",
       "\n",
       "    .dataframe tbody tr th {\n",
       "        vertical-align: top;\n",
       "    }\n",
       "\n",
       "    .dataframe thead th {\n",
       "        text-align: right;\n",
       "    }\n",
       "</style>\n",
       "<table border=\"1\" class=\"dataframe\">\n",
       "  <thead>\n",
       "    <tr style=\"text-align: right;\">\n",
       "      <th></th>\n",
       "      <th>Model Name</th>\n",
       "      <th>RMSE train</th>\n",
       "      <th>RMSE Test</th>\n",
       "      <th>rsquare train</th>\n",
       "      <th>rsquare test</th>\n",
       "    </tr>\n",
       "  </thead>\n",
       "  <tbody>\n",
       "    <tr>\n",
       "      <td>0</td>\n",
       "      <td>Decision Tree</td>\n",
       "      <td>0.538543</td>\n",
       "      <td>0.525706</td>\n",
       "      <td>0.319479</td>\n",
       "      <td>0.397021</td>\n",
       "    </tr>\n",
       "    <tr>\n",
       "      <td>1</td>\n",
       "      <td>Linear Regression</td>\n",
       "      <td>0.419173</td>\n",
       "      <td>0.420268</td>\n",
       "      <td>0.587726</td>\n",
       "      <td>0.614638</td>\n",
       "    </tr>\n",
       "    <tr>\n",
       "      <td>2</td>\n",
       "      <td>Random Forest</td>\n",
       "      <td>0.180568</td>\n",
       "      <td>0.396333</td>\n",
       "      <td>0.923497</td>\n",
       "      <td>0.657283</td>\n",
       "    </tr>\n",
       "  </tbody>\n",
       "</table>\n",
       "</div>"
      ],
      "text/plain": [
       "          Model Name  RMSE train  RMSE Test  rsquare train  rsquare test\n",
       "0      Decision Tree    0.538543   0.525706       0.319479      0.397021\n",
       "1  Linear Regression    0.419173   0.420268       0.587726      0.614638\n",
       "2      Random Forest    0.180568   0.396333       0.923497      0.657283"
      ]
     },
     "execution_count": 96,
     "metadata": {},
     "output_type": "execute_result"
    }
   ],
   "source": [
    "result"
   ]
  },
  {
   "cell_type": "markdown",
   "metadata": {},
   "source": [
    ">>>**1. What changes company should bring to reduce the number of absenteeism?<<<"
   ]
  },
  {
   "cell_type": "code",
   "execution_count": 14,
   "metadata": {},
   "outputs": [],
   "source": [
    "temp = data_employee\n",
    "data_employee = temp"
   ]
  },
  {
   "cell_type": "code",
   "execution_count": 15,
   "metadata": {},
   "outputs": [
    {
     "data": {
      "text/plain": [
       "Index(['ID', 'Reason_for_absence', 'Month_of_absence', 'Day_of_the_week',\n",
       "       'Seasons', 'Transportation_expense', 'Distance_from_Residence_to_Work',\n",
       "       'Service_time', 'Age', 'Work_load_Average/day_', 'Hit_target',\n",
       "       'Disciplinary_failure', 'Education', 'Son', 'Social_drinker',\n",
       "       'Social_smoker', 'Pet', 'Weight', 'Height', 'Body_mass_index',\n",
       "       'Absenteeism_time_in_hours'],\n",
       "      dtype='object')"
      ]
     },
     "execution_count": 15,
     "metadata": {},
     "output_type": "execute_result"
    }
   ],
   "source": [
    "data_employee.columns"
   ]
  },
  {
   "cell_type": "code",
   "execution_count": 16,
   "metadata": {},
   "outputs": [],
   "source": [
    "data_employee['Reason_for_absence'] = data_employee['Reason_for_absence'].replace({0:1,1:1,2:1,3:1,4:1,5:1,6:1,7:1,8:1,9:1,10:1,11:1,12:1,13:1,14:1,15:1,16:1,17:1,18:1,19:1,20:1,21:2,22:2,23:3,24:3,25:4,26:5,27:2,28:2})"
   ]
  },
  {
   "cell_type": "code",
   "execution_count": 17,
   "metadata": {},
   "outputs": [
    {
     "data": {
      "text/html": [
       "<div>\n",
       "<style scoped>\n",
       "    .dataframe tbody tr th:only-of-type {\n",
       "        vertical-align: middle;\n",
       "    }\n",
       "\n",
       "    .dataframe tbody tr th {\n",
       "        vertical-align: top;\n",
       "    }\n",
       "\n",
       "    .dataframe thead th {\n",
       "        text-align: right;\n",
       "    }\n",
       "</style>\n",
       "<table border=\"1\" class=\"dataframe\">\n",
       "  <thead>\n",
       "    <tr style=\"text-align: right;\">\n",
       "      <th></th>\n",
       "      <th>ID</th>\n",
       "      <th>Reason_for_absence</th>\n",
       "      <th>Month_of_absence</th>\n",
       "      <th>Day_of_the_week</th>\n",
       "      <th>Seasons</th>\n",
       "      <th>Transportation_expense</th>\n",
       "      <th>Distance_from_Residence_to_Work</th>\n",
       "      <th>Service_time</th>\n",
       "      <th>Age</th>\n",
       "      <th>Work_load_Average/day_</th>\n",
       "      <th>...</th>\n",
       "      <th>Disciplinary_failure</th>\n",
       "      <th>Education</th>\n",
       "      <th>Son</th>\n",
       "      <th>Social_drinker</th>\n",
       "      <th>Social_smoker</th>\n",
       "      <th>Pet</th>\n",
       "      <th>Weight</th>\n",
       "      <th>Height</th>\n",
       "      <th>Body_mass_index</th>\n",
       "      <th>Absenteeism_time_in_hours</th>\n",
       "    </tr>\n",
       "  </thead>\n",
       "  <tbody>\n",
       "    <tr>\n",
       "      <td>0</td>\n",
       "      <td>11</td>\n",
       "      <td>5.0</td>\n",
       "      <td>7.0</td>\n",
       "      <td>3</td>\n",
       "      <td>1</td>\n",
       "      <td>289.0</td>\n",
       "      <td>36.0</td>\n",
       "      <td>13.0</td>\n",
       "      <td>33.0</td>\n",
       "      <td>239.554</td>\n",
       "      <td>...</td>\n",
       "      <td>0.0</td>\n",
       "      <td>1.0</td>\n",
       "      <td>2.0</td>\n",
       "      <td>1.0</td>\n",
       "      <td>0.0</td>\n",
       "      <td>1.0</td>\n",
       "      <td>90.0</td>\n",
       "      <td>172.0</td>\n",
       "      <td>30.0</td>\n",
       "      <td>4.0</td>\n",
       "    </tr>\n",
       "    <tr>\n",
       "      <td>1</td>\n",
       "      <td>36</td>\n",
       "      <td>1.0</td>\n",
       "      <td>7.0</td>\n",
       "      <td>3</td>\n",
       "      <td>1</td>\n",
       "      <td>118.0</td>\n",
       "      <td>13.0</td>\n",
       "      <td>18.0</td>\n",
       "      <td>50.0</td>\n",
       "      <td>239.554</td>\n",
       "      <td>...</td>\n",
       "      <td>1.0</td>\n",
       "      <td>1.0</td>\n",
       "      <td>1.0</td>\n",
       "      <td>1.0</td>\n",
       "      <td>0.0</td>\n",
       "      <td>0.0</td>\n",
       "      <td>98.0</td>\n",
       "      <td>178.0</td>\n",
       "      <td>31.0</td>\n",
       "      <td>0.0</td>\n",
       "    </tr>\n",
       "    <tr>\n",
       "      <td>2</td>\n",
       "      <td>3</td>\n",
       "      <td>3.0</td>\n",
       "      <td>7.0</td>\n",
       "      <td>4</td>\n",
       "      <td>1</td>\n",
       "      <td>179.0</td>\n",
       "      <td>51.0</td>\n",
       "      <td>18.0</td>\n",
       "      <td>38.0</td>\n",
       "      <td>239.554</td>\n",
       "      <td>...</td>\n",
       "      <td>0.0</td>\n",
       "      <td>1.0</td>\n",
       "      <td>0.0</td>\n",
       "      <td>1.0</td>\n",
       "      <td>0.0</td>\n",
       "      <td>0.0</td>\n",
       "      <td>89.0</td>\n",
       "      <td>170.0</td>\n",
       "      <td>31.0</td>\n",
       "      <td>2.0</td>\n",
       "    </tr>\n",
       "    <tr>\n",
       "      <td>3</td>\n",
       "      <td>7</td>\n",
       "      <td>1.0</td>\n",
       "      <td>7.0</td>\n",
       "      <td>5</td>\n",
       "      <td>1</td>\n",
       "      <td>279.0</td>\n",
       "      <td>5.0</td>\n",
       "      <td>14.0</td>\n",
       "      <td>39.0</td>\n",
       "      <td>239.554</td>\n",
       "      <td>...</td>\n",
       "      <td>0.0</td>\n",
       "      <td>1.0</td>\n",
       "      <td>2.0</td>\n",
       "      <td>1.0</td>\n",
       "      <td>1.0</td>\n",
       "      <td>0.0</td>\n",
       "      <td>68.0</td>\n",
       "      <td>168.0</td>\n",
       "      <td>24.0</td>\n",
       "      <td>4.0</td>\n",
       "    </tr>\n",
       "    <tr>\n",
       "      <td>4</td>\n",
       "      <td>11</td>\n",
       "      <td>3.0</td>\n",
       "      <td>7.0</td>\n",
       "      <td>5</td>\n",
       "      <td>1</td>\n",
       "      <td>289.0</td>\n",
       "      <td>36.0</td>\n",
       "      <td>13.0</td>\n",
       "      <td>33.0</td>\n",
       "      <td>239.554</td>\n",
       "      <td>...</td>\n",
       "      <td>0.0</td>\n",
       "      <td>1.0</td>\n",
       "      <td>2.0</td>\n",
       "      <td>1.0</td>\n",
       "      <td>0.0</td>\n",
       "      <td>1.0</td>\n",
       "      <td>90.0</td>\n",
       "      <td>172.0</td>\n",
       "      <td>30.0</td>\n",
       "      <td>2.0</td>\n",
       "    </tr>\n",
       "  </tbody>\n",
       "</table>\n",
       "<p>5 rows × 21 columns</p>\n",
       "</div>"
      ],
      "text/plain": [
       "   ID  Reason_for_absence  Month_of_absence  Day_of_the_week  Seasons  \\\n",
       "0  11                 5.0               7.0                3        1   \n",
       "1  36                 1.0               7.0                3        1   \n",
       "2   3                 3.0               7.0                4        1   \n",
       "3   7                 1.0               7.0                5        1   \n",
       "4  11                 3.0               7.0                5        1   \n",
       "\n",
       "   Transportation_expense  Distance_from_Residence_to_Work  Service_time  \\\n",
       "0                   289.0                             36.0          13.0   \n",
       "1                   118.0                             13.0          18.0   \n",
       "2                   179.0                             51.0          18.0   \n",
       "3                   279.0                              5.0          14.0   \n",
       "4                   289.0                             36.0          13.0   \n",
       "\n",
       "    Age  Work_load_Average/day_  ...  Disciplinary_failure  Education  Son  \\\n",
       "0  33.0                 239.554  ...                   0.0        1.0  2.0   \n",
       "1  50.0                 239.554  ...                   1.0        1.0  1.0   \n",
       "2  38.0                 239.554  ...                   0.0        1.0  0.0   \n",
       "3  39.0                 239.554  ...                   0.0        1.0  2.0   \n",
       "4  33.0                 239.554  ...                   0.0        1.0  2.0   \n",
       "\n",
       "   Social_drinker  Social_smoker  Pet  Weight  Height  Body_mass_index  \\\n",
       "0             1.0            0.0  1.0    90.0   172.0             30.0   \n",
       "1             1.0            0.0  0.0    98.0   178.0             31.0   \n",
       "2             1.0            0.0  0.0    89.0   170.0             31.0   \n",
       "3             1.0            1.0  0.0    68.0   168.0             24.0   \n",
       "4             1.0            0.0  1.0    90.0   172.0             30.0   \n",
       "\n",
       "   Absenteeism_time_in_hours  \n",
       "0                        4.0  \n",
       "1                        0.0  \n",
       "2                        2.0  \n",
       "3                        4.0  \n",
       "4                        2.0  \n",
       "\n",
       "[5 rows x 21 columns]"
      ]
     },
     "execution_count": 17,
     "metadata": {},
     "output_type": "execute_result"
    }
   ],
   "source": [
    "data_employee.head()"
   ]
  },
  {
   "cell_type": "code",
   "execution_count": 18,
   "metadata": {},
   "outputs": [
    {
     "data": {
      "image/png": "[encoded data removed]",
      "text/plain": [
       "<Figure size 360x360 with 1 Axes>"
      ]
     },
     "metadata": {
      "needs_background": "light"
     },
     "output_type": "display_data"
    },
    {
     "data": {
      "image/png": "[encoded data removed]",
      "text/plain": [
       "<Figure size 360x360 with 1 Axes>"
      ]
     },
     "metadata": {
      "needs_background": "light"
     },
     "output_type": "display_data"
    },
    {
     "data": {
      "image/png": "[encoded data removed]",
      "text/plain": [
       "<Figure size 360x360 with 1 Axes>"
      ]
     },
     "metadata": {
      "needs_background": "light"
     },
     "output_type": "display_data"
    },
    {
     "data": {
      "image/png": "[encoded data removed]",
      "text/plain": [
       "<Figure size 360x360 with 1 Axes>"
      ]
     },
     "metadata": {
      "needs_background": "light"
     },
     "output_type": "display_data"
    },
    {
     "data": {
      "image/png": "[encoded data removed]",
      "text/plain": [
       "<Figure size 360x360 with 1 Axes>"
      ]
     },
     "metadata": {
      "needs_background": "light"
     },
     "output_type": "display_data"
    },
    {
     "data": {
      "image/png": "[encoded data removed]",
      "text/plain": [
       "<Figure size 360x360 with 1 Axes>"
      ]
     },
     "metadata": {
      "needs_background": "light"
     },
     "output_type": "display_data"
    },
    {
     "data": {
      "image/png": "[encoded data removed]",
      "text/plain": [
       "<Figure size 360x360 with 1 Axes>"
      ]
     },
     "metadata": {
      "needs_background": "light"
     },
     "output_type": "display_data"
    },
    {
     "data": {
      "image/png": "[encoded data removed]",
      "text/plain": [
       "<Figure size 360x360 with 1 Axes>"
      ]
     },
     "metadata": {
      "needs_background": "light"
     },
     "output_type": "display_data"
    },
    {
     "data": {
      "image/png": "[encoded data removed]",
      "text/plain": [
       "<Figure size 360x360 with 1 Axes>"
      ]
     },
     "metadata": {
      "needs_background": "light"
     },
     "output_type": "display_data"
    },
    {
     "data": {
      "image/png": "[encoded data removed]",
      "text/plain": [
       "<Figure size 360x360 with 1 Axes>"
      ]
     },
     "metadata": {
      "needs_background": "light"
     },
     "output_type": "display_data"
    }
   ],
   "source": [
    "for i in cat_names :\n",
    "    sns.catplot(x=i, y=\"Absenteeism_time_in_hours\", data = data_employee)\n",
    "    fname = str(i)+'.pdf'\n",
    "    plt.savefig(fname)"
   ]
  },
  {
   "cell_type": "markdown",
   "metadata": {},
   "source": [
    "From the above visualizations we can observed that people which don't have pet and have 1-2 children have maximum Absenteeism.\n",
    "And also people who are socila drinker have more Absenteeism than non drinker and people who are non social smoker have more Absenteeism. People with high school eduction have maximum Absenteeism with reason of Code of Diseases 1. Absenteeism for all months and season are constant. And yes Disciplinary failure with 0 have maximum Absenteeism."
   ]
  },
  {
   "cell_type": "code",
   "execution_count": 20,
   "metadata": {},
   "outputs": [
    {
     "data": {
      "text/plain": [
       "Text(0, 0.5, 'Work_load_Average/day_')"
      ]
     },
     "execution_count": 20,
     "metadata": {},
     "output_type": "execute_result"
    },
    {
     "data": {
      "image/png": "[encoded data removed]",
      "text/plain": [
       "<Figure size 720x720 with 1 Axes>"
      ]
     },
     "metadata": {
      "needs_background": "light"
     },
     "output_type": "display_data"
    }
   ],
   "source": [
    "#Absenteeism Visualization\n",
    "f, ax = plt.subplots(figsize=(10,10))\n",
    "sns.scatterplot(x=\"Absenteeism_time_in_hours\", y = \"Work_load_Average/day_\",\n",
    "               hue = \"Age\", size = \"Service_time\",\n",
    "               palette = \"coolwarm\", sizes = (10,100), linewidth=0,\n",
    "               data = data_employee, ax=ax)\n",
    "plt.title(\"Absenteeism time in hours with respect to Work load Average/day and Service time\")\n",
    "plt.xlabel(\"Absenteeism_time_in_hours\")\n",
    "plt.ylabel(\"Work_load_Average/day_\")"
   ]
  },
  {
   "cell_type": "markdown",
   "metadata": {},
   "source": [
    ">>>2. How much losses every month can we project in 2011 if same trend of\n",
    "absenteeism continues?<<<"
   ]
  },
  {
   "cell_type": "code",
   "execution_count": 23,
   "metadata": {},
   "outputs": [],
   "source": [
    "predict_loss = data_employee"
   ]
  },
  {
   "cell_type": "code",
   "execution_count": 24,
   "metadata": {},
   "outputs": [
    {
     "data": {
      "text/html": [
       "<div>\n",
       "<style scoped>\n",
       "    .dataframe tbody tr th:only-of-type {\n",
       "        vertical-align: middle;\n",
       "    }\n",
       "\n",
       "    .dataframe tbody tr th {\n",
       "        vertical-align: top;\n",
       "    }\n",
       "\n",
       "    .dataframe thead th {\n",
       "        text-align: right;\n",
       "    }\n",
       "</style>\n",
       "<table border=\"1\" class=\"dataframe\">\n",
       "  <thead>\n",
       "    <tr style=\"text-align: right;\">\n",
       "      <th></th>\n",
       "      <th>ID</th>\n",
       "      <th>Reason_for_absence</th>\n",
       "      <th>Month_of_absence</th>\n",
       "      <th>Day_of_the_week</th>\n",
       "      <th>Seasons</th>\n",
       "      <th>Transportation_expense</th>\n",
       "      <th>Distance_from_Residence_to_Work</th>\n",
       "      <th>Service_time</th>\n",
       "      <th>Age</th>\n",
       "      <th>Work_load_Average/day_</th>\n",
       "      <th>...</th>\n",
       "      <th>Disciplinary_failure</th>\n",
       "      <th>Education</th>\n",
       "      <th>Son</th>\n",
       "      <th>Social_drinker</th>\n",
       "      <th>Social_smoker</th>\n",
       "      <th>Pet</th>\n",
       "      <th>Weight</th>\n",
       "      <th>Height</th>\n",
       "      <th>Body_mass_index</th>\n",
       "      <th>Absenteeism_time_in_hours</th>\n",
       "    </tr>\n",
       "  </thead>\n",
       "  <tbody>\n",
       "    <tr>\n",
       "      <td>0</td>\n",
       "      <td>11</td>\n",
       "      <td>5.0</td>\n",
       "      <td>7.0</td>\n",
       "      <td>3</td>\n",
       "      <td>1</td>\n",
       "      <td>289.0</td>\n",
       "      <td>36.0</td>\n",
       "      <td>13.0</td>\n",
       "      <td>33.0</td>\n",
       "      <td>239.554</td>\n",
       "      <td>...</td>\n",
       "      <td>0.0</td>\n",
       "      <td>1.0</td>\n",
       "      <td>2.0</td>\n",
       "      <td>1.0</td>\n",
       "      <td>0.0</td>\n",
       "      <td>1.0</td>\n",
       "      <td>90.0</td>\n",
       "      <td>172.0</td>\n",
       "      <td>30.0</td>\n",
       "      <td>4.0</td>\n",
       "    </tr>\n",
       "    <tr>\n",
       "      <td>1</td>\n",
       "      <td>36</td>\n",
       "      <td>1.0</td>\n",
       "      <td>7.0</td>\n",
       "      <td>3</td>\n",
       "      <td>1</td>\n",
       "      <td>118.0</td>\n",
       "      <td>13.0</td>\n",
       "      <td>18.0</td>\n",
       "      <td>50.0</td>\n",
       "      <td>239.554</td>\n",
       "      <td>...</td>\n",
       "      <td>1.0</td>\n",
       "      <td>1.0</td>\n",
       "      <td>1.0</td>\n",
       "      <td>1.0</td>\n",
       "      <td>0.0</td>\n",
       "      <td>0.0</td>\n",
       "      <td>98.0</td>\n",
       "      <td>178.0</td>\n",
       "      <td>31.0</td>\n",
       "      <td>0.0</td>\n",
       "    </tr>\n",
       "    <tr>\n",
       "      <td>2</td>\n",
       "      <td>3</td>\n",
       "      <td>3.0</td>\n",
       "      <td>7.0</td>\n",
       "      <td>4</td>\n",
       "      <td>1</td>\n",
       "      <td>179.0</td>\n",
       "      <td>51.0</td>\n",
       "      <td>18.0</td>\n",
       "      <td>38.0</td>\n",
       "      <td>239.554</td>\n",
       "      <td>...</td>\n",
       "      <td>0.0</td>\n",
       "      <td>1.0</td>\n",
       "      <td>0.0</td>\n",
       "      <td>1.0</td>\n",
       "      <td>0.0</td>\n",
       "      <td>0.0</td>\n",
       "      <td>89.0</td>\n",
       "      <td>170.0</td>\n",
       "      <td>31.0</td>\n",
       "      <td>2.0</td>\n",
       "    </tr>\n",
       "    <tr>\n",
       "      <td>3</td>\n",
       "      <td>7</td>\n",
       "      <td>1.0</td>\n",
       "      <td>7.0</td>\n",
       "      <td>5</td>\n",
       "      <td>1</td>\n",
       "      <td>279.0</td>\n",
       "      <td>5.0</td>\n",
       "      <td>14.0</td>\n",
       "      <td>39.0</td>\n",
       "      <td>239.554</td>\n",
       "      <td>...</td>\n",
       "      <td>0.0</td>\n",
       "      <td>1.0</td>\n",
       "      <td>2.0</td>\n",
       "      <td>1.0</td>\n",
       "      <td>1.0</td>\n",
       "      <td>0.0</td>\n",
       "      <td>68.0</td>\n",
       "      <td>168.0</td>\n",
       "      <td>24.0</td>\n",
       "      <td>4.0</td>\n",
       "    </tr>\n",
       "    <tr>\n",
       "      <td>4</td>\n",
       "      <td>11</td>\n",
       "      <td>3.0</td>\n",
       "      <td>7.0</td>\n",
       "      <td>5</td>\n",
       "      <td>1</td>\n",
       "      <td>289.0</td>\n",
       "      <td>36.0</td>\n",
       "      <td>13.0</td>\n",
       "      <td>33.0</td>\n",
       "      <td>239.554</td>\n",
       "      <td>...</td>\n",
       "      <td>0.0</td>\n",
       "      <td>1.0</td>\n",
       "      <td>2.0</td>\n",
       "      <td>1.0</td>\n",
       "      <td>0.0</td>\n",
       "      <td>1.0</td>\n",
       "      <td>90.0</td>\n",
       "      <td>172.0</td>\n",
       "      <td>30.0</td>\n",
       "      <td>2.0</td>\n",
       "    </tr>\n",
       "  </tbody>\n",
       "</table>\n",
       "<p>5 rows × 21 columns</p>\n",
       "</div>"
      ],
      "text/plain": [
       "   ID  Reason_for_absence  Month_of_absence  Day_of_the_week  Seasons  \\\n",
       "0  11                 5.0               7.0                3        1   \n",
       "1  36                 1.0               7.0                3        1   \n",
       "2   3                 3.0               7.0                4        1   \n",
       "3   7                 1.0               7.0                5        1   \n",
       "4  11                 3.0               7.0                5        1   \n",
       "\n",
       "   Transportation_expense  Distance_from_Residence_to_Work  Service_time  \\\n",
       "0                   289.0                             36.0          13.0   \n",
       "1                   118.0                             13.0          18.0   \n",
       "2                   179.0                             51.0          18.0   \n",
       "3                   279.0                              5.0          14.0   \n",
       "4                   289.0                             36.0          13.0   \n",
       "\n",
       "    Age  Work_load_Average/day_  ...  Disciplinary_failure  Education  Son  \\\n",
       "0  33.0                 239.554  ...                   0.0        1.0  2.0   \n",
       "1  50.0                 239.554  ...                   1.0        1.0  1.0   \n",
       "2  38.0                 239.554  ...                   0.0        1.0  0.0   \n",
       "3  39.0                 239.554  ...                   0.0        1.0  2.0   \n",
       "4  33.0                 239.554  ...                   0.0        1.0  2.0   \n",
       "\n",
       "   Social_drinker  Social_smoker  Pet  Weight  Height  Body_mass_index  \\\n",
       "0             1.0            0.0  1.0    90.0   172.0             30.0   \n",
       "1             1.0            0.0  0.0    98.0   178.0             31.0   \n",
       "2             1.0            0.0  0.0    89.0   170.0             31.0   \n",
       "3             1.0            1.0  0.0    68.0   168.0             24.0   \n",
       "4             1.0            0.0  1.0    90.0   172.0             30.0   \n",
       "\n",
       "   Absenteeism_time_in_hours  \n",
       "0                        4.0  \n",
       "1                        0.0  \n",
       "2                        2.0  \n",
       "3                        4.0  \n",
       "4                        2.0  \n",
       "\n",
       "[5 rows x 21 columns]"
      ]
     },
     "execution_count": 24,
     "metadata": {},
     "output_type": "execute_result"
    }
   ],
   "source": [
    "predict_loss.head()"
   ]
  },
  {
   "cell_type": "code",
   "execution_count": 25,
   "metadata": {},
   "outputs": [
    {
     "name": "stderr",
     "output_type": "stream",
     "text": [
      "C:\\Users\\dcdc\\Anaconda3\\lib\\site-packages\\pandas\\core\\indexing.py:205: SettingWithCopyWarning: \n",
      "A value is trying to be set on a copy of a slice from a DataFrame\n",
      "\n",
      "See the caveats in the documentation: http://pandas.pydata.org/pandas-docs/stable/user_guide/indexing.html#returning-a-view-versus-a-copy\n",
      "  self._setitem_with_indexer(indexer, value)\n"
     ]
    }
   ],
   "source": [
    "#work loss per month-\n",
    "predict_loss['work_loss_average/day_'] = 0\n",
    "for i  in range(len(predict_loss)):\n",
    "    predict_loss['work_loss_average/day_'].loc[i] = ((predict_loss['Work_load_Average/day_'].loc[i])/24)*predict_loss['Absenteeism_time_in_hours'].loc[i]"
   ]
  },
  {
   "cell_type": "code",
   "execution_count": 26,
   "metadata": {},
   "outputs": [
    {
     "data": {
      "text/html": [
       "<div>\n",
       "<style scoped>\n",
       "    .dataframe tbody tr th:only-of-type {\n",
       "        vertical-align: middle;\n",
       "    }\n",
       "\n",
       "    .dataframe tbody tr th {\n",
       "        vertical-align: top;\n",
       "    }\n",
       "\n",
       "    .dataframe thead th {\n",
       "        text-align: right;\n",
       "    }\n",
       "</style>\n",
       "<table border=\"1\" class=\"dataframe\">\n",
       "  <thead>\n",
       "    <tr style=\"text-align: right;\">\n",
       "      <th></th>\n",
       "      <th>ID</th>\n",
       "      <th>Reason_for_absence</th>\n",
       "      <th>Month_of_absence</th>\n",
       "      <th>Day_of_the_week</th>\n",
       "      <th>Seasons</th>\n",
       "      <th>Transportation_expense</th>\n",
       "      <th>Distance_from_Residence_to_Work</th>\n",
       "      <th>Service_time</th>\n",
       "      <th>Age</th>\n",
       "      <th>Work_load_Average/day_</th>\n",
       "      <th>...</th>\n",
       "      <th>Education</th>\n",
       "      <th>Son</th>\n",
       "      <th>Social_drinker</th>\n",
       "      <th>Social_smoker</th>\n",
       "      <th>Pet</th>\n",
       "      <th>Weight</th>\n",
       "      <th>Height</th>\n",
       "      <th>Body_mass_index</th>\n",
       "      <th>Absenteeism_time_in_hours</th>\n",
       "      <th>work_loss_average/day_</th>\n",
       "    </tr>\n",
       "  </thead>\n",
       "  <tbody>\n",
       "    <tr>\n",
       "      <td>0</td>\n",
       "      <td>11</td>\n",
       "      <td>5.0</td>\n",
       "      <td>7.0</td>\n",
       "      <td>3</td>\n",
       "      <td>1</td>\n",
       "      <td>289.0</td>\n",
       "      <td>36.0</td>\n",
       "      <td>13.0</td>\n",
       "      <td>33.0</td>\n",
       "      <td>239.554</td>\n",
       "      <td>...</td>\n",
       "      <td>1.0</td>\n",
       "      <td>2.0</td>\n",
       "      <td>1.0</td>\n",
       "      <td>0.0</td>\n",
       "      <td>1.0</td>\n",
       "      <td>90.0</td>\n",
       "      <td>172.0</td>\n",
       "      <td>30.0</td>\n",
       "      <td>4.0</td>\n",
       "      <td>39.925667</td>\n",
       "    </tr>\n",
       "    <tr>\n",
       "      <td>1</td>\n",
       "      <td>36</td>\n",
       "      <td>1.0</td>\n",
       "      <td>7.0</td>\n",
       "      <td>3</td>\n",
       "      <td>1</td>\n",
       "      <td>118.0</td>\n",
       "      <td>13.0</td>\n",
       "      <td>18.0</td>\n",
       "      <td>50.0</td>\n",
       "      <td>239.554</td>\n",
       "      <td>...</td>\n",
       "      <td>1.0</td>\n",
       "      <td>1.0</td>\n",
       "      <td>1.0</td>\n",
       "      <td>0.0</td>\n",
       "      <td>0.0</td>\n",
       "      <td>98.0</td>\n",
       "      <td>178.0</td>\n",
       "      <td>31.0</td>\n",
       "      <td>0.0</td>\n",
       "      <td>0.000000</td>\n",
       "    </tr>\n",
       "    <tr>\n",
       "      <td>2</td>\n",
       "      <td>3</td>\n",
       "      <td>3.0</td>\n",
       "      <td>7.0</td>\n",
       "      <td>4</td>\n",
       "      <td>1</td>\n",
       "      <td>179.0</td>\n",
       "      <td>51.0</td>\n",
       "      <td>18.0</td>\n",
       "      <td>38.0</td>\n",
       "      <td>239.554</td>\n",
       "      <td>...</td>\n",
       "      <td>1.0</td>\n",
       "      <td>0.0</td>\n",
       "      <td>1.0</td>\n",
       "      <td>0.0</td>\n",
       "      <td>0.0</td>\n",
       "      <td>89.0</td>\n",
       "      <td>170.0</td>\n",
       "      <td>31.0</td>\n",
       "      <td>2.0</td>\n",
       "      <td>19.962833</td>\n",
       "    </tr>\n",
       "    <tr>\n",
       "      <td>3</td>\n",
       "      <td>7</td>\n",
       "      <td>1.0</td>\n",
       "      <td>7.0</td>\n",
       "      <td>5</td>\n",
       "      <td>1</td>\n",
       "      <td>279.0</td>\n",
       "      <td>5.0</td>\n",
       "      <td>14.0</td>\n",
       "      <td>39.0</td>\n",
       "      <td>239.554</td>\n",
       "      <td>...</td>\n",
       "      <td>1.0</td>\n",
       "      <td>2.0</td>\n",
       "      <td>1.0</td>\n",
       "      <td>1.0</td>\n",
       "      <td>0.0</td>\n",
       "      <td>68.0</td>\n",
       "      <td>168.0</td>\n",
       "      <td>24.0</td>\n",
       "      <td>4.0</td>\n",
       "      <td>39.925667</td>\n",
       "    </tr>\n",
       "    <tr>\n",
       "      <td>4</td>\n",
       "      <td>11</td>\n",
       "      <td>3.0</td>\n",
       "      <td>7.0</td>\n",
       "      <td>5</td>\n",
       "      <td>1</td>\n",
       "      <td>289.0</td>\n",
       "      <td>36.0</td>\n",
       "      <td>13.0</td>\n",
       "      <td>33.0</td>\n",
       "      <td>239.554</td>\n",
       "      <td>...</td>\n",
       "      <td>1.0</td>\n",
       "      <td>2.0</td>\n",
       "      <td>1.0</td>\n",
       "      <td>0.0</td>\n",
       "      <td>1.0</td>\n",
       "      <td>90.0</td>\n",
       "      <td>172.0</td>\n",
       "      <td>30.0</td>\n",
       "      <td>2.0</td>\n",
       "      <td>19.962833</td>\n",
       "    </tr>\n",
       "    <tr>\n",
       "      <td>...</td>\n",
       "      <td>...</td>\n",
       "      <td>...</td>\n",
       "      <td>...</td>\n",
       "      <td>...</td>\n",
       "      <td>...</td>\n",
       "      <td>...</td>\n",
       "      <td>...</td>\n",
       "      <td>...</td>\n",
       "      <td>...</td>\n",
       "      <td>...</td>\n",
       "      <td>...</td>\n",
       "      <td>...</td>\n",
       "      <td>...</td>\n",
       "      <td>...</td>\n",
       "      <td>...</td>\n",
       "      <td>...</td>\n",
       "      <td>...</td>\n",
       "      <td>...</td>\n",
       "      <td>...</td>\n",
       "      <td>...</td>\n",
       "      <td>...</td>\n",
       "    </tr>\n",
       "    <tr>\n",
       "      <td>735</td>\n",
       "      <td>11</td>\n",
       "      <td>1.0</td>\n",
       "      <td>7.0</td>\n",
       "      <td>3</td>\n",
       "      <td>1</td>\n",
       "      <td>289.0</td>\n",
       "      <td>36.0</td>\n",
       "      <td>13.0</td>\n",
       "      <td>33.0</td>\n",
       "      <td>264.604</td>\n",
       "      <td>...</td>\n",
       "      <td>1.0</td>\n",
       "      <td>2.0</td>\n",
       "      <td>1.0</td>\n",
       "      <td>0.0</td>\n",
       "      <td>1.0</td>\n",
       "      <td>90.0</td>\n",
       "      <td>172.0</td>\n",
       "      <td>30.0</td>\n",
       "      <td>8.0</td>\n",
       "      <td>88.201333</td>\n",
       "    </tr>\n",
       "    <tr>\n",
       "      <td>736</td>\n",
       "      <td>1</td>\n",
       "      <td>1.0</td>\n",
       "      <td>7.0</td>\n",
       "      <td>3</td>\n",
       "      <td>1</td>\n",
       "      <td>235.0</td>\n",
       "      <td>11.0</td>\n",
       "      <td>14.0</td>\n",
       "      <td>37.0</td>\n",
       "      <td>264.604</td>\n",
       "      <td>...</td>\n",
       "      <td>3.0</td>\n",
       "      <td>1.0</td>\n",
       "      <td>0.0</td>\n",
       "      <td>0.0</td>\n",
       "      <td>1.0</td>\n",
       "      <td>88.0</td>\n",
       "      <td>172.0</td>\n",
       "      <td>29.0</td>\n",
       "      <td>4.0</td>\n",
       "      <td>44.100667</td>\n",
       "    </tr>\n",
       "    <tr>\n",
       "      <td>737</td>\n",
       "      <td>4</td>\n",
       "      <td>1.0</td>\n",
       "      <td>NaN</td>\n",
       "      <td>3</td>\n",
       "      <td>1</td>\n",
       "      <td>118.0</td>\n",
       "      <td>14.0</td>\n",
       "      <td>13.0</td>\n",
       "      <td>40.0</td>\n",
       "      <td>271.219</td>\n",
       "      <td>...</td>\n",
       "      <td>1.0</td>\n",
       "      <td>1.0</td>\n",
       "      <td>1.0</td>\n",
       "      <td>0.0</td>\n",
       "      <td>8.0</td>\n",
       "      <td>98.0</td>\n",
       "      <td>170.0</td>\n",
       "      <td>34.0</td>\n",
       "      <td>0.0</td>\n",
       "      <td>0.000000</td>\n",
       "    </tr>\n",
       "    <tr>\n",
       "      <td>738</td>\n",
       "      <td>8</td>\n",
       "      <td>1.0</td>\n",
       "      <td>NaN</td>\n",
       "      <td>4</td>\n",
       "      <td>2</td>\n",
       "      <td>231.0</td>\n",
       "      <td>35.0</td>\n",
       "      <td>14.0</td>\n",
       "      <td>39.0</td>\n",
       "      <td>271.219</td>\n",
       "      <td>...</td>\n",
       "      <td>1.0</td>\n",
       "      <td>2.0</td>\n",
       "      <td>1.0</td>\n",
       "      <td>0.0</td>\n",
       "      <td>2.0</td>\n",
       "      <td>100.0</td>\n",
       "      <td>170.0</td>\n",
       "      <td>35.0</td>\n",
       "      <td>0.0</td>\n",
       "      <td>0.000000</td>\n",
       "    </tr>\n",
       "    <tr>\n",
       "      <td>739</td>\n",
       "      <td>35</td>\n",
       "      <td>1.0</td>\n",
       "      <td>NaN</td>\n",
       "      <td>6</td>\n",
       "      <td>3</td>\n",
       "      <td>179.0</td>\n",
       "      <td>45.0</td>\n",
       "      <td>14.0</td>\n",
       "      <td>53.0</td>\n",
       "      <td>271.219</td>\n",
       "      <td>...</td>\n",
       "      <td>1.0</td>\n",
       "      <td>1.0</td>\n",
       "      <td>0.0</td>\n",
       "      <td>0.0</td>\n",
       "      <td>1.0</td>\n",
       "      <td>77.0</td>\n",
       "      <td>175.0</td>\n",
       "      <td>25.0</td>\n",
       "      <td>0.0</td>\n",
       "      <td>0.000000</td>\n",
       "    </tr>\n",
       "  </tbody>\n",
       "</table>\n",
       "<p>740 rows × 22 columns</p>\n",
       "</div>"
      ],
      "text/plain": [
       "     ID  Reason_for_absence  Month_of_absence  Day_of_the_week  Seasons  \\\n",
       "0    11                 5.0               7.0                3        1   \n",
       "1    36                 1.0               7.0                3        1   \n",
       "2     3                 3.0               7.0                4        1   \n",
       "3     7                 1.0               7.0                5        1   \n",
       "4    11                 3.0               7.0                5        1   \n",
       "..   ..                 ...               ...              ...      ...   \n",
       "735  11                 1.0               7.0                3        1   \n",
       "736   1                 1.0               7.0                3        1   \n",
       "737   4                 1.0               NaN                3        1   \n",
       "738   8                 1.0               NaN                4        2   \n",
       "739  35                 1.0               NaN                6        3   \n",
       "\n",
       "     Transportation_expense  Distance_from_Residence_to_Work  Service_time  \\\n",
       "0                     289.0                             36.0          13.0   \n",
       "1                     118.0                             13.0          18.0   \n",
       "2                     179.0                             51.0          18.0   \n",
       "3                     279.0                              5.0          14.0   \n",
       "4                     289.0                             36.0          13.0   \n",
       "..                      ...                              ...           ...   \n",
       "735                   289.0                             36.0          13.0   \n",
       "736                   235.0                             11.0          14.0   \n",
       "737                   118.0                             14.0          13.0   \n",
       "738                   231.0                             35.0          14.0   \n",
       "739                   179.0                             45.0          14.0   \n",
       "\n",
       "      Age  Work_load_Average/day_  ...  Education  Son  Social_drinker  \\\n",
       "0    33.0                 239.554  ...        1.0  2.0             1.0   \n",
       "1    50.0                 239.554  ...        1.0  1.0             1.0   \n",
       "2    38.0                 239.554  ...        1.0  0.0             1.0   \n",
       "3    39.0                 239.554  ...        1.0  2.0             1.0   \n",
       "4    33.0                 239.554  ...        1.0  2.0             1.0   \n",
       "..    ...                     ...  ...        ...  ...             ...   \n",
       "735  33.0                 264.604  ...        1.0  2.0             1.0   \n",
       "736  37.0                 264.604  ...        3.0  1.0             0.0   \n",
       "737  40.0                 271.219  ...        1.0  1.0             1.0   \n",
       "738  39.0                 271.219  ...        1.0  2.0             1.0   \n",
       "739  53.0                 271.219  ...        1.0  1.0             0.0   \n",
       "\n",
       "     Social_smoker  Pet  Weight  Height  Body_mass_index  \\\n",
       "0              0.0  1.0    90.0   172.0             30.0   \n",
       "1              0.0  0.0    98.0   178.0             31.0   \n",
       "2              0.0  0.0    89.0   170.0             31.0   \n",
       "3              1.0  0.0    68.0   168.0             24.0   \n",
       "4              0.0  1.0    90.0   172.0             30.0   \n",
       "..             ...  ...     ...     ...              ...   \n",
       "735            0.0  1.0    90.0   172.0             30.0   \n",
       "736            0.0  1.0    88.0   172.0             29.0   \n",
       "737            0.0  8.0    98.0   170.0             34.0   \n",
       "738            0.0  2.0   100.0   170.0             35.0   \n",
       "739            0.0  1.0    77.0   175.0             25.0   \n",
       "\n",
       "     Absenteeism_time_in_hours  work_loss_average/day_  \n",
       "0                          4.0               39.925667  \n",
       "1                          0.0                0.000000  \n",
       "2                          2.0               19.962833  \n",
       "3                          4.0               39.925667  \n",
       "4                          2.0               19.962833  \n",
       "..                         ...                     ...  \n",
       "735                        8.0               88.201333  \n",
       "736                        4.0               44.100667  \n",
       "737                        0.0                0.000000  \n",
       "738                        0.0                0.000000  \n",
       "739                        0.0                0.000000  \n",
       "\n",
       "[740 rows x 22 columns]"
      ]
     },
     "execution_count": 26,
     "metadata": {},
     "output_type": "execute_result"
    }
   ],
   "source": [
    "predict_loss"
   ]
  },
  {
   "cell_type": "code",
   "execution_count": 27,
   "metadata": {},
   "outputs": [],
   "source": [
    "#total absenteeism per month-\n",
    "Absenteeism_hours_monthly = predict_loss.groupby('Month_of_absence').sum()"
   ]
  },
  {
   "cell_type": "code",
   "execution_count": 29,
   "metadata": {},
   "outputs": [],
   "source": [
    "Absenteeism_hours_monthly= Absenteeism_hours_monthly[['Absenteeism_time_in_hours','work_loss_average/day_']]"
   ]
  },
  {
   "cell_type": "code",
   "execution_count": 30,
   "metadata": {},
   "outputs": [],
   "source": [
    "Monthly_loss= Absenteeism_hours_monthly.rename(columns={'Absenteeism_time_in_hours': 'Absenteeism time/month(hrs.)', \n",
    "                            'work_loss_average/day': 'Work loss per month'})"
   ]
  },
  {
   "cell_type": "code",
   "execution_count": 31,
   "metadata": {},
   "outputs": [
    {
     "data": {
      "text/html": [
       "<div>\n",
       "<style scoped>\n",
       "    .dataframe tbody tr th:only-of-type {\n",
       "        vertical-align: middle;\n",
       "    }\n",
       "\n",
       "    .dataframe tbody tr th {\n",
       "        vertical-align: top;\n",
       "    }\n",
       "\n",
       "    .dataframe thead th {\n",
       "        text-align: right;\n",
       "    }\n",
       "</style>\n",
       "<table border=\"1\" class=\"dataframe\">\n",
       "  <thead>\n",
       "    <tr style=\"text-align: right;\">\n",
       "      <th></th>\n",
       "      <th>Absenteeism time/month(hrs.)</th>\n",
       "      <th>work_loss_average/day_</th>\n",
       "    </tr>\n",
       "    <tr>\n",
       "      <th>Month_of_absence</th>\n",
       "      <th></th>\n",
       "      <th></th>\n",
       "    </tr>\n",
       "  </thead>\n",
       "  <tbody>\n",
       "    <tr>\n",
       "      <td>1.0</td>\n",
       "      <td>222.0</td>\n",
       "      <td>2887.355750</td>\n",
       "    </tr>\n",
       "    <tr>\n",
       "      <td>2.0</td>\n",
       "      <td>294.0</td>\n",
       "      <td>3321.114667</td>\n",
       "    </tr>\n",
       "    <tr>\n",
       "      <td>3.0</td>\n",
       "      <td>749.0</td>\n",
       "      <td>8454.375917</td>\n",
       "    </tr>\n",
       "    <tr>\n",
       "      <td>4.0</td>\n",
       "      <td>482.0</td>\n",
       "      <td>5544.403583</td>\n",
       "    </tr>\n",
       "    <tr>\n",
       "      <td>5.0</td>\n",
       "      <td>392.0</td>\n",
       "      <td>4396.434417</td>\n",
       "    </tr>\n",
       "    <tr>\n",
       "      <td>6.0</td>\n",
       "      <td>403.0</td>\n",
       "      <td>5293.046917</td>\n",
       "    </tr>\n",
       "    <tr>\n",
       "      <td>7.0</td>\n",
       "      <td>724.0</td>\n",
       "      <td>7627.470250</td>\n",
       "    </tr>\n",
       "    <tr>\n",
       "      <td>8.0</td>\n",
       "      <td>272.0</td>\n",
       "      <td>2631.874000</td>\n",
       "    </tr>\n",
       "    <tr>\n",
       "      <td>9.0</td>\n",
       "      <td>284.0</td>\n",
       "      <td>3250.310292</td>\n",
       "    </tr>\n",
       "    <tr>\n",
       "      <td>10.0</td>\n",
       "      <td>340.0</td>\n",
       "      <td>3719.012000</td>\n",
       "    </tr>\n",
       "    <tr>\n",
       "      <td>11.0</td>\n",
       "      <td>463.0</td>\n",
       "      <td>5451.547417</td>\n",
       "    </tr>\n",
       "    <tr>\n",
       "      <td>12.0</td>\n",
       "      <td>382.0</td>\n",
       "      <td>3500.401792</td>\n",
       "    </tr>\n",
       "  </tbody>\n",
       "</table>\n",
       "</div>"
      ],
      "text/plain": [
       "                  Absenteeism time/month(hrs.)  work_loss_average/day_\n",
       "Month_of_absence                                                      \n",
       "1.0                                      222.0             2887.355750\n",
       "2.0                                      294.0             3321.114667\n",
       "3.0                                      749.0             8454.375917\n",
       "4.0                                      482.0             5544.403583\n",
       "5.0                                      392.0             4396.434417\n",
       "6.0                                      403.0             5293.046917\n",
       "7.0                                      724.0             7627.470250\n",
       "8.0                                      272.0             2631.874000\n",
       "9.0                                      284.0             3250.310292\n",
       "10.0                                     340.0             3719.012000\n",
       "11.0                                     463.0             5451.547417\n",
       "12.0                                     382.0             3500.401792"
      ]
     },
     "execution_count": 31,
     "metadata": {},
     "output_type": "execute_result"
    }
   ],
   "source": [
    "Monthly_loss"
   ]
  },
  {
   "cell_type": "markdown",
   "metadata": {},
   "source": [
    ">>>>>>>>Thank You<<<<<<<<"
   ]
  }
 ],
 "metadata": {
  "kernelspec": {
   "display_name": "Python 3",
   "language": "python",
   "name": "python3"
  },
  "language_info": {
   "codemirror_mode": {
    "name": "ipython",
    "version": 3
   },
   "file_extension": ".py",
   "mimetype": "text/x-python",
   "name": "python",
   "nbconvert_exporter": "python",
   "pygments_lexer": "ipython3",
   "version": "3.6.8"
  }
 },
 "nbformat": 4,
 "nbformat_minor": 2
}
